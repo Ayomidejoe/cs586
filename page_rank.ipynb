{
  "nbformat": 4,
  "nbformat_minor": 0,
  "metadata": {
    "colab": {
      "name": "CS586_Group_E_Final.ipynb",
      "provenance": [],
      "collapsed_sections": [],
      "toc_visible": true
    },
    "kernelspec": {
      "name": "python3",
      "display_name": "Python 3"
    },
    "accelerator": "GPU",
    "widgets": {
      "application/vnd.jupyter.widget-state+json": {
        "46251183eaf744c58b21026118b89be5": {
          "model_module": "@jupyter-widgets/controls",
          "model_name": "HBoxModel",
          "state": {
            "_view_name": "HBoxView",
            "_dom_classes": [],
            "_model_name": "HBoxModel",
            "_view_module": "@jupyter-widgets/controls",
            "_model_module_version": "1.5.0",
            "_view_count": null,
            "_view_module_version": "1.5.0",
            "box_style": "",
            "layout": "IPY_MODEL_10787365d98747768513607888866f1c",
            "_model_module": "@jupyter-widgets/controls",
            "children": [
              "IPY_MODEL_c1f33f8474fb446c9fd4c9dc46210198",
              "IPY_MODEL_02c7740fce124ee9bbdeb9c7975da9c8"
            ]
          }
        },
        "10787365d98747768513607888866f1c": {
          "model_module": "@jupyter-widgets/base",
          "model_name": "LayoutModel",
          "state": {
            "_view_name": "LayoutView",
            "grid_template_rows": null,
            "right": null,
            "justify_content": null,
            "_view_module": "@jupyter-widgets/base",
            "overflow": null,
            "_model_module_version": "1.2.0",
            "_view_count": null,
            "flex_flow": null,
            "width": null,
            "min_width": null,
            "border": null,
            "align_items": null,
            "bottom": null,
            "_model_module": "@jupyter-widgets/base",
            "top": null,
            "grid_column": null,
            "overflow_y": null,
            "overflow_x": null,
            "grid_auto_flow": null,
            "grid_area": null,
            "grid_template_columns": null,
            "flex": null,
            "_model_name": "LayoutModel",
            "justify_items": null,
            "grid_row": null,
            "max_height": null,
            "align_content": null,
            "visibility": null,
            "align_self": null,
            "height": null,
            "min_height": null,
            "padding": null,
            "grid_auto_rows": null,
            "grid_gap": null,
            "max_width": null,
            "order": null,
            "_view_module_version": "1.2.0",
            "grid_template_areas": null,
            "object_position": null,
            "object_fit": null,
            "grid_auto_columns": null,
            "margin": null,
            "display": null,
            "left": null
          }
        },
        "c1f33f8474fb446c9fd4c9dc46210198": {
          "model_module": "@jupyter-widgets/controls",
          "model_name": "FloatProgressModel",
          "state": {
            "_view_name": "ProgressView",
            "style": "IPY_MODEL_68c1ce15595b421aabe2ecb241b85d6e",
            "_dom_classes": [],
            "description": "100%",
            "_model_name": "FloatProgressModel",
            "bar_style": "success",
            "max": 8357,
            "_view_module": "@jupyter-widgets/controls",
            "_model_module_version": "1.5.0",
            "value": 8357,
            "_view_count": null,
            "_view_module_version": "1.5.0",
            "orientation": "horizontal",
            "min": 0,
            "description_tooltip": null,
            "_model_module": "@jupyter-widgets/controls",
            "layout": "IPY_MODEL_ae48cf6dff114fcf874c6898b53a8069"
          }
        },
        "02c7740fce124ee9bbdeb9c7975da9c8": {
          "model_module": "@jupyter-widgets/controls",
          "model_name": "HTMLModel",
          "state": {
            "_view_name": "HTMLView",
            "style": "IPY_MODEL_c354642316c447be8c11f756f0f4cab7",
            "_dom_classes": [],
            "description": "",
            "_model_name": "HTMLModel",
            "placeholder": "​",
            "_view_module": "@jupyter-widgets/controls",
            "_model_module_version": "1.5.0",
            "value": " 8357/8357 [00:00&lt;00:00, 55390.54it/s]",
            "_view_count": null,
            "_view_module_version": "1.5.0",
            "description_tooltip": null,
            "_model_module": "@jupyter-widgets/controls",
            "layout": "IPY_MODEL_82cc4e1bb0d448fab8732066e66da146"
          }
        },
        "68c1ce15595b421aabe2ecb241b85d6e": {
          "model_module": "@jupyter-widgets/controls",
          "model_name": "ProgressStyleModel",
          "state": {
            "_view_name": "StyleView",
            "_model_name": "ProgressStyleModel",
            "description_width": "initial",
            "_view_module": "@jupyter-widgets/base",
            "_model_module_version": "1.5.0",
            "_view_count": null,
            "_view_module_version": "1.2.0",
            "bar_color": null,
            "_model_module": "@jupyter-widgets/controls"
          }
        },
        "ae48cf6dff114fcf874c6898b53a8069": {
          "model_module": "@jupyter-widgets/base",
          "model_name": "LayoutModel",
          "state": {
            "_view_name": "LayoutView",
            "grid_template_rows": null,
            "right": null,
            "justify_content": null,
            "_view_module": "@jupyter-widgets/base",
            "overflow": null,
            "_model_module_version": "1.2.0",
            "_view_count": null,
            "flex_flow": null,
            "width": null,
            "min_width": null,
            "border": null,
            "align_items": null,
            "bottom": null,
            "_model_module": "@jupyter-widgets/base",
            "top": null,
            "grid_column": null,
            "overflow_y": null,
            "overflow_x": null,
            "grid_auto_flow": null,
            "grid_area": null,
            "grid_template_columns": null,
            "flex": null,
            "_model_name": "LayoutModel",
            "justify_items": null,
            "grid_row": null,
            "max_height": null,
            "align_content": null,
            "visibility": null,
            "align_self": null,
            "height": null,
            "min_height": null,
            "padding": null,
            "grid_auto_rows": null,
            "grid_gap": null,
            "max_width": null,
            "order": null,
            "_view_module_version": "1.2.0",
            "grid_template_areas": null,
            "object_position": null,
            "object_fit": null,
            "grid_auto_columns": null,
            "margin": null,
            "display": null,
            "left": null
          }
        },
        "c354642316c447be8c11f756f0f4cab7": {
          "model_module": "@jupyter-widgets/controls",
          "model_name": "DescriptionStyleModel",
          "state": {
            "_view_name": "StyleView",
            "_model_name": "DescriptionStyleModel",
            "description_width": "",
            "_view_module": "@jupyter-widgets/base",
            "_model_module_version": "1.5.0",
            "_view_count": null,
            "_view_module_version": "1.2.0",
            "_model_module": "@jupyter-widgets/controls"
          }
        },
        "82cc4e1bb0d448fab8732066e66da146": {
          "model_module": "@jupyter-widgets/base",
          "model_name": "LayoutModel",
          "state": {
            "_view_name": "LayoutView",
            "grid_template_rows": null,
            "right": null,
            "justify_content": null,
            "_view_module": "@jupyter-widgets/base",
            "overflow": null,
            "_model_module_version": "1.2.0",
            "_view_count": null,
            "flex_flow": null,
            "width": null,
            "min_width": null,
            "border": null,
            "align_items": null,
            "bottom": null,
            "_model_module": "@jupyter-widgets/base",
            "top": null,
            "grid_column": null,
            "overflow_y": null,
            "overflow_x": null,
            "grid_auto_flow": null,
            "grid_area": null,
            "grid_template_columns": null,
            "flex": null,
            "_model_name": "LayoutModel",
            "justify_items": null,
            "grid_row": null,
            "max_height": null,
            "align_content": null,
            "visibility": null,
            "align_self": null,
            "height": null,
            "min_height": null,
            "padding": null,
            "grid_auto_rows": null,
            "grid_gap": null,
            "max_width": null,
            "order": null,
            "_view_module_version": "1.2.0",
            "grid_template_areas": null,
            "object_position": null,
            "object_fit": null,
            "grid_auto_columns": null,
            "margin": null,
            "display": null,
            "left": null
          }
        },
        "8b0f5ca89f2e4ab8828e6923edb9ed2c": {
          "model_module": "@jupyter-widgets/controls",
          "model_name": "HBoxModel",
          "state": {
            "_view_name": "HBoxView",
            "_dom_classes": [],
            "_model_name": "HBoxModel",
            "_view_module": "@jupyter-widgets/controls",
            "_model_module_version": "1.5.0",
            "_view_count": null,
            "_view_module_version": "1.5.0",
            "box_style": "",
            "layout": "IPY_MODEL_1daea8bdcc2c4209a32fbc0cbd384e91",
            "_model_module": "@jupyter-widgets/controls",
            "children": [
              "IPY_MODEL_f43ef76b04f3478485b41cdf39b2341e",
              "IPY_MODEL_548f120ee0cc4da18870761c052c8930"
            ]
          }
        },
        "1daea8bdcc2c4209a32fbc0cbd384e91": {
          "model_module": "@jupyter-widgets/base",
          "model_name": "LayoutModel",
          "state": {
            "_view_name": "LayoutView",
            "grid_template_rows": null,
            "right": null,
            "justify_content": null,
            "_view_module": "@jupyter-widgets/base",
            "overflow": null,
            "_model_module_version": "1.2.0",
            "_view_count": null,
            "flex_flow": null,
            "width": null,
            "min_width": null,
            "border": null,
            "align_items": null,
            "bottom": null,
            "_model_module": "@jupyter-widgets/base",
            "top": null,
            "grid_column": null,
            "overflow_y": null,
            "overflow_x": null,
            "grid_auto_flow": null,
            "grid_area": null,
            "grid_template_columns": null,
            "flex": null,
            "_model_name": "LayoutModel",
            "justify_items": null,
            "grid_row": null,
            "max_height": null,
            "align_content": null,
            "visibility": null,
            "align_self": null,
            "height": null,
            "min_height": null,
            "padding": null,
            "grid_auto_rows": null,
            "grid_gap": null,
            "max_width": null,
            "order": null,
            "_view_module_version": "1.2.0",
            "grid_template_areas": null,
            "object_position": null,
            "object_fit": null,
            "grid_auto_columns": null,
            "margin": null,
            "display": null,
            "left": null
          }
        },
        "f43ef76b04f3478485b41cdf39b2341e": {
          "model_module": "@jupyter-widgets/controls",
          "model_name": "FloatProgressModel",
          "state": {
            "_view_name": "ProgressView",
            "style": "IPY_MODEL_70cdb9df87ac4c47a5ceacdb4d96c37a",
            "_dom_classes": [],
            "description": "100%",
            "_model_name": "FloatProgressModel",
            "bar_style": "success",
            "max": 7719,
            "_view_module": "@jupyter-widgets/controls",
            "_model_module_version": "1.5.0",
            "value": 7719,
            "_view_count": null,
            "_view_module_version": "1.5.0",
            "orientation": "horizontal",
            "min": 0,
            "description_tooltip": null,
            "_model_module": "@jupyter-widgets/controls",
            "layout": "IPY_MODEL_64d617d7aab34911a253612264e89916"
          }
        },
        "548f120ee0cc4da18870761c052c8930": {
          "model_module": "@jupyter-widgets/controls",
          "model_name": "HTMLModel",
          "state": {
            "_view_name": "HTMLView",
            "style": "IPY_MODEL_a44447d63afd4b609416731e86f5ff5e",
            "_dom_classes": [],
            "description": "",
            "_model_name": "HTMLModel",
            "placeholder": "​",
            "_view_module": "@jupyter-widgets/controls",
            "_model_module_version": "1.5.0",
            "value": " 7719/7719 [00:00&lt;00:00, 20051.06it/s]",
            "_view_count": null,
            "_view_module_version": "1.5.0",
            "description_tooltip": null,
            "_model_module": "@jupyter-widgets/controls",
            "layout": "IPY_MODEL_54faa8eb359c47ddb306a090d5683bd7"
          }
        },
        "70cdb9df87ac4c47a5ceacdb4d96c37a": {
          "model_module": "@jupyter-widgets/controls",
          "model_name": "ProgressStyleModel",
          "state": {
            "_view_name": "StyleView",
            "_model_name": "ProgressStyleModel",
            "description_width": "initial",
            "_view_module": "@jupyter-widgets/base",
            "_model_module_version": "1.5.0",
            "_view_count": null,
            "_view_module_version": "1.2.0",
            "bar_color": null,
            "_model_module": "@jupyter-widgets/controls"
          }
        },
        "64d617d7aab34911a253612264e89916": {
          "model_module": "@jupyter-widgets/base",
          "model_name": "LayoutModel",
          "state": {
            "_view_name": "LayoutView",
            "grid_template_rows": null,
            "right": null,
            "justify_content": null,
            "_view_module": "@jupyter-widgets/base",
            "overflow": null,
            "_model_module_version": "1.2.0",
            "_view_count": null,
            "flex_flow": null,
            "width": null,
            "min_width": null,
            "border": null,
            "align_items": null,
            "bottom": null,
            "_model_module": "@jupyter-widgets/base",
            "top": null,
            "grid_column": null,
            "overflow_y": null,
            "overflow_x": null,
            "grid_auto_flow": null,
            "grid_area": null,
            "grid_template_columns": null,
            "flex": null,
            "_model_name": "LayoutModel",
            "justify_items": null,
            "grid_row": null,
            "max_height": null,
            "align_content": null,
            "visibility": null,
            "align_self": null,
            "height": null,
            "min_height": null,
            "padding": null,
            "grid_auto_rows": null,
            "grid_gap": null,
            "max_width": null,
            "order": null,
            "_view_module_version": "1.2.0",
            "grid_template_areas": null,
            "object_position": null,
            "object_fit": null,
            "grid_auto_columns": null,
            "margin": null,
            "display": null,
            "left": null
          }
        },
        "a44447d63afd4b609416731e86f5ff5e": {
          "model_module": "@jupyter-widgets/controls",
          "model_name": "DescriptionStyleModel",
          "state": {
            "_view_name": "StyleView",
            "_model_name": "DescriptionStyleModel",
            "description_width": "",
            "_view_module": "@jupyter-widgets/base",
            "_model_module_version": "1.5.0",
            "_view_count": null,
            "_view_module_version": "1.2.0",
            "_model_module": "@jupyter-widgets/controls"
          }
        },
        "54faa8eb359c47ddb306a090d5683bd7": {
          "model_module": "@jupyter-widgets/base",
          "model_name": "LayoutModel",
          "state": {
            "_view_name": "LayoutView",
            "grid_template_rows": null,
            "right": null,
            "justify_content": null,
            "_view_module": "@jupyter-widgets/base",
            "overflow": null,
            "_model_module_version": "1.2.0",
            "_view_count": null,
            "flex_flow": null,
            "width": null,
            "min_width": null,
            "border": null,
            "align_items": null,
            "bottom": null,
            "_model_module": "@jupyter-widgets/base",
            "top": null,
            "grid_column": null,
            "overflow_y": null,
            "overflow_x": null,
            "grid_auto_flow": null,
            "grid_area": null,
            "grid_template_columns": null,
            "flex": null,
            "_model_name": "LayoutModel",
            "justify_items": null,
            "grid_row": null,
            "max_height": null,
            "align_content": null,
            "visibility": null,
            "align_self": null,
            "height": null,
            "min_height": null,
            "padding": null,
            "grid_auto_rows": null,
            "grid_gap": null,
            "max_width": null,
            "order": null,
            "_view_module_version": "1.2.0",
            "grid_template_areas": null,
            "object_position": null,
            "object_fit": null,
            "grid_auto_columns": null,
            "margin": null,
            "display": null,
            "left": null
          }
        },
        "fef8c69d20c64cb8a83e507933dbd585": {
          "model_module": "@jupyter-widgets/controls",
          "model_name": "HBoxModel",
          "state": {
            "_view_name": "HBoxView",
            "_dom_classes": [],
            "_model_name": "HBoxModel",
            "_view_module": "@jupyter-widgets/controls",
            "_model_module_version": "1.5.0",
            "_view_count": null,
            "_view_module_version": "1.5.0",
            "box_style": "",
            "layout": "IPY_MODEL_c0ac2a332f5f4b5eb74c11153e0df3b7",
            "_model_module": "@jupyter-widgets/controls",
            "children": [
              "IPY_MODEL_295191a8d1114e2d836c3421e56deb2e",
              "IPY_MODEL_68d48e60904142e5a339385fafdffb0c"
            ]
          }
        },
        "c0ac2a332f5f4b5eb74c11153e0df3b7": {
          "model_module": "@jupyter-widgets/base",
          "model_name": "LayoutModel",
          "state": {
            "_view_name": "LayoutView",
            "grid_template_rows": null,
            "right": null,
            "justify_content": null,
            "_view_module": "@jupyter-widgets/base",
            "overflow": null,
            "_model_module_version": "1.2.0",
            "_view_count": null,
            "flex_flow": null,
            "width": null,
            "min_width": null,
            "border": null,
            "align_items": null,
            "bottom": null,
            "_model_module": "@jupyter-widgets/base",
            "top": null,
            "grid_column": null,
            "overflow_y": null,
            "overflow_x": null,
            "grid_auto_flow": null,
            "grid_area": null,
            "grid_template_columns": null,
            "flex": null,
            "_model_name": "LayoutModel",
            "justify_items": null,
            "grid_row": null,
            "max_height": null,
            "align_content": null,
            "visibility": null,
            "align_self": null,
            "height": null,
            "min_height": null,
            "padding": null,
            "grid_auto_rows": null,
            "grid_gap": null,
            "max_width": null,
            "order": null,
            "_view_module_version": "1.2.0",
            "grid_template_areas": null,
            "object_position": null,
            "object_fit": null,
            "grid_auto_columns": null,
            "margin": null,
            "display": null,
            "left": null
          }
        },
        "295191a8d1114e2d836c3421e56deb2e": {
          "model_module": "@jupyter-widgets/controls",
          "model_name": "FloatProgressModel",
          "state": {
            "_view_name": "ProgressView",
            "style": "IPY_MODEL_8228a20469814a3ba66eacccd946ddf8",
            "_dom_classes": [],
            "description": "100%",
            "_model_name": "FloatProgressModel",
            "bar_style": "success",
            "max": 51518,
            "_view_module": "@jupyter-widgets/controls",
            "_model_module_version": "1.5.0",
            "value": 51518,
            "_view_count": null,
            "_view_module_version": "1.5.0",
            "orientation": "horizontal",
            "min": 0,
            "description_tooltip": null,
            "_model_module": "@jupyter-widgets/controls",
            "layout": "IPY_MODEL_f49d49fe274842bc9bf34f4c16cdd8a9"
          }
        },
        "68d48e60904142e5a339385fafdffb0c": {
          "model_module": "@jupyter-widgets/controls",
          "model_name": "HTMLModel",
          "state": {
            "_view_name": "HTMLView",
            "style": "IPY_MODEL_e5f75e95444048d9b543aedf38d711c3",
            "_dom_classes": [],
            "description": "",
            "_model_name": "HTMLModel",
            "placeholder": "​",
            "_view_module": "@jupyter-widgets/controls",
            "_model_module_version": "1.5.0",
            "value": " 51518/51518 [00:00&lt;00:00, 118622.57it/s]",
            "_view_count": null,
            "_view_module_version": "1.5.0",
            "description_tooltip": null,
            "_model_module": "@jupyter-widgets/controls",
            "layout": "IPY_MODEL_2f84c20ab2204eff984d84c863c5299c"
          }
        },
        "8228a20469814a3ba66eacccd946ddf8": {
          "model_module": "@jupyter-widgets/controls",
          "model_name": "ProgressStyleModel",
          "state": {
            "_view_name": "StyleView",
            "_model_name": "ProgressStyleModel",
            "description_width": "initial",
            "_view_module": "@jupyter-widgets/base",
            "_model_module_version": "1.5.0",
            "_view_count": null,
            "_view_module_version": "1.2.0",
            "bar_color": null,
            "_model_module": "@jupyter-widgets/controls"
          }
        },
        "f49d49fe274842bc9bf34f4c16cdd8a9": {
          "model_module": "@jupyter-widgets/base",
          "model_name": "LayoutModel",
          "state": {
            "_view_name": "LayoutView",
            "grid_template_rows": null,
            "right": null,
            "justify_content": null,
            "_view_module": "@jupyter-widgets/base",
            "overflow": null,
            "_model_module_version": "1.2.0",
            "_view_count": null,
            "flex_flow": null,
            "width": null,
            "min_width": null,
            "border": null,
            "align_items": null,
            "bottom": null,
            "_model_module": "@jupyter-widgets/base",
            "top": null,
            "grid_column": null,
            "overflow_y": null,
            "overflow_x": null,
            "grid_auto_flow": null,
            "grid_area": null,
            "grid_template_columns": null,
            "flex": null,
            "_model_name": "LayoutModel",
            "justify_items": null,
            "grid_row": null,
            "max_height": null,
            "align_content": null,
            "visibility": null,
            "align_self": null,
            "height": null,
            "min_height": null,
            "padding": null,
            "grid_auto_rows": null,
            "grid_gap": null,
            "max_width": null,
            "order": null,
            "_view_module_version": "1.2.0",
            "grid_template_areas": null,
            "object_position": null,
            "object_fit": null,
            "grid_auto_columns": null,
            "margin": null,
            "display": null,
            "left": null
          }
        },
        "e5f75e95444048d9b543aedf38d711c3": {
          "model_module": "@jupyter-widgets/controls",
          "model_name": "DescriptionStyleModel",
          "state": {
            "_view_name": "StyleView",
            "_model_name": "DescriptionStyleModel",
            "description_width": "",
            "_view_module": "@jupyter-widgets/base",
            "_model_module_version": "1.5.0",
            "_view_count": null,
            "_view_module_version": "1.2.0",
            "_model_module": "@jupyter-widgets/controls"
          }
        },
        "2f84c20ab2204eff984d84c863c5299c": {
          "model_module": "@jupyter-widgets/base",
          "model_name": "LayoutModel",
          "state": {
            "_view_name": "LayoutView",
            "grid_template_rows": null,
            "right": null,
            "justify_content": null,
            "_view_module": "@jupyter-widgets/base",
            "overflow": null,
            "_model_module_version": "1.2.0",
            "_view_count": null,
            "flex_flow": null,
            "width": null,
            "min_width": null,
            "border": null,
            "align_items": null,
            "bottom": null,
            "_model_module": "@jupyter-widgets/base",
            "top": null,
            "grid_column": null,
            "overflow_y": null,
            "overflow_x": null,
            "grid_auto_flow": null,
            "grid_area": null,
            "grid_template_columns": null,
            "flex": null,
            "_model_name": "LayoutModel",
            "justify_items": null,
            "grid_row": null,
            "max_height": null,
            "align_content": null,
            "visibility": null,
            "align_self": null,
            "height": null,
            "min_height": null,
            "padding": null,
            "grid_auto_rows": null,
            "grid_gap": null,
            "max_width": null,
            "order": null,
            "_view_module_version": "1.2.0",
            "grid_template_areas": null,
            "object_position": null,
            "object_fit": null,
            "grid_auto_columns": null,
            "margin": null,
            "display": null,
            "left": null
          }
        }
      }
    }
  },
  "cells": [
    {
      "cell_type": "markdown",
      "metadata": {
        "id": "q6ibzlSDoRrQ"
      },
      "source": [
        "# **CS 586: Final Project**\n",
        "COVID-19: Understanding the range of incubation periods and how long individuals are contagious after recovery.\n",
        "-----------------------------------------------------------------------\n",
        "This purpose of this notebook is to take a .csv file of relevant papers and use NetworkX to run the PageRank algorithm. The results are then saved to a separate .tsv file. "
      ]
    },
    {
      "cell_type": "markdown",
      "metadata": {
        "id": "z2Ox1BRtpf63"
      },
      "source": [
        "## **Installing Dependencies**\n",
        "This installs the modules that are not already provided and mounts Google Drive if using Colab. "
      ]
    },
    {
      "cell_type": "code",
      "metadata": {
        "id": "Fe09tES9CchV",
        "colab": {
          "base_uri": "https://localhost:8080/"
        },
        "outputId": "de884292-9441-4515-95fa-571aeade1326"
      },
      "source": [
        "# Installs dependencies and \n",
        "!pip install rdflib\n",
        "!apt-get -y install python-dev graphviz libgraphviz-dev pkg-config\n",
        "!pip install pygraphviz\n",
        "\n",
        "# Mounting Google drive if using Colab \n",
        "from google.colab import drive\n",
        "drive.mount('/content/drive')"
      ],
      "execution_count": 9,
      "outputs": [
        {
          "output_type": "stream",
          "text": [
            "Requirement already satisfied: rdflib in /usr/local/lib/python3.6/dist-packages (5.0.0)\n",
            "Requirement already satisfied: isodate in /usr/local/lib/python3.6/dist-packages (from rdflib) (0.6.0)\n",
            "Requirement already satisfied: six in /usr/local/lib/python3.6/dist-packages (from rdflib) (1.15.0)\n",
            "Requirement already satisfied: pyparsing in /usr/local/lib/python3.6/dist-packages (from rdflib) (2.4.7)\n",
            "Reading package lists... Done\n",
            "Building dependency tree       \n",
            "Reading state information... Done\n",
            "pkg-config is already the newest version (0.29.1-0ubuntu2).\n",
            "python-dev is already the newest version (2.7.15~rc1-1).\n",
            "graphviz is already the newest version (2.40.1-2).\n",
            "libgraphviz-dev is already the newest version (2.40.1-2).\n",
            "0 upgraded, 0 newly installed, 0 to remove and 14 not upgraded.\n",
            "Requirement already satisfied: pygraphviz in /usr/local/lib/python3.6/dist-packages (1.6)\n",
            "Drive already mounted at /content/drive; to attempt to forcibly remount, call drive.mount(\"/content/drive\", force_remount=True).\n"
          ],
          "name": "stdout"
        }
      ]
    },
    {
      "cell_type": "markdown",
      "metadata": {
        "id": "WFqlDcq-qH2C"
      },
      "source": [
        "## **Preparing the Knowledge Graph**\n",
        "\n",
        "In order to utilize the open-source knowledge graph, we'll parse the N-Triples file provided using `rdflib`."
      ]
    },
    {
      "cell_type": "code",
      "metadata": {
        "id": "IhqpQY1XG-dm"
      },
      "source": [
        "import rdflib\n",
        "from rdflib.extras.external_graph_libs import rdflib_to_networkx_digraph\n",
        "import networkx as nx\n",
        "%matplotlib inline\n",
        "import matplotlib.pyplot as plt\n",
        "\n",
        "from tqdm.notebook import tqdm"
      ],
      "execution_count": 10,
      "outputs": []
    },
    {
      "cell_type": "code",
      "metadata": {
        "id": "jQBV-vY_Db7d",
        "colab": {
          "base_uri": "https://localhost:8080/"
        },
        "outputId": "1dd1c642-568d-49f3-9400-e90d874cbe94"
      },
      "source": [
        "# Load the knowledge-graph (this will take a bit)\n",
        "# Note that the invalid URIs warnings are unfortunately due to the \n",
        "# errors in the open source dataset\n",
        "kg = rdflib.Graph()\n",
        "kg.load('/content/drive/Shared drives/CS 586: Data & Web Semantics/Final Project/covid19-literature-knowledge-graph/covid-kg4.nt', format='nt')"
      ],
      "execution_count": 11,
      "outputs": [
        {
          "output_type": "stream",
          "text": [
            "http://dx.doi.org/10.1137/040604947\\end{doi does not look like a valid URI, trying to serialize this will break.\n",
            "http://dx.doi.org/10.1137/040604947\\end{doi does not look like a valid URI, trying to serialize this will break.\n",
            "http://dx.doi.org/10.1137/040604947\\end{doi does not look like a valid URI, trying to serialize this will break.\n",
            "http://dx.doi.org/10.1137/040604947\\end{doi does not look like a valid URI, trying to serialize this will break.\n",
            "http://dx.doi.org/10.1137/040604947\\end{doi does not look like a valid URI, trying to serialize this will break.\n",
            "http://dx.doi.org/10.1137/040604947\\end{doi does not look like a valid URI, trying to serialize this will break.\n",
            "http://dx.doi.org/10.1137/040604947\\end{doi does not look like a valid URI, trying to serialize this will break.\n",
            "http://dx.doi.org/10.1137/040604947\\end{doi does not look like a valid URI, trying to serialize this will break.\n",
            "http://dx.doi.org/10.1137/040604947\\end{doi does not look like a valid URI, trying to serialize this will break.\n",
            "http://dx.doi.org/10.1137/040604947\\end{doi does not look like a valid URI, trying to serialize this will break.\n",
            "http://dx.doi.org/10.1137/040604947\\end{doi does not look like a valid URI, trying to serialize this will break.\n",
            "http://dx.doi.org/10.1137/040604947\\end{doi does not look like a valid URI, trying to serialize this will break.\n",
            "http://dx.doi.org/10.1137/040604947\\end{doi does not look like a valid URI, trying to serialize this will break.\n",
            "http://dx.doi.org/10.1137/040604947\\end{doi does not look like a valid URI, trying to serialize this will break.\n",
            "<http://idlab.github.io/covid19# does not look like a valid URI, trying to serialize this will break.\n",
            "<http://idlab.github.io/covid19# does not look like a valid URI, trying to serialize this will break.\n",
            "<http://idlab.github.io/covid19# does not look like a valid URI, trying to serialize this will break.\n",
            "<http://idlab.github.io/covid19# does not look like a valid URI, trying to serialize this will break.\n",
            "<http://idlab.github.io/covid19# does not look like a valid URI, trying to serialize this will break.\n",
            "<http://idlab.github.io/covid19# does not look like a valid URI, trying to serialize this will break.\n",
            "<http://idlab.github.io/covid19# does not look like a valid URI, trying to serialize this will break.\n",
            "<http://idlab.github.io/covid19# does not look like a valid URI, trying to serialize this will break.\n",
            "<http://idlab.github.io/covid19# does not look like a valid URI, trying to serialize this will break.\n"
          ],
          "name": "stderr"
        }
      ]
    },
    {
      "cell_type": "code",
      "metadata": {
        "id": "AHQOHIQWIoU5",
        "colab": {
          "base_uri": "https://localhost:8080/"
        },
        "outputId": "ef3c861e-83ad-4e9f-a718-f7e694840140"
      },
      "source": [
        "# Check that we were able to load the knowledge graph properly\n",
        "# Number of triples\n",
        "print(len(list(kg.triples((None, None, None)))))\n",
        "\n",
        "#Predicates\n",
        "print(len(set(kg.predicates())))"
      ],
      "execution_count": 12,
      "outputs": [
        {
          "output_type": "stream",
          "text": [
            "5151961\n",
            "9\n"
          ],
          "name": "stdout"
        }
      ]
    },
    {
      "cell_type": "markdown",
      "metadata": {
        "id": "Unq5n7vPqxr9"
      },
      "source": [
        "## **Prepare the Dataset**\n",
        "\n",
        "Below we take the .csv file containing the relevant papers and only keep the papers that have been cited in other papers."
      ]
    },
    {
      "cell_type": "code",
      "metadata": {
        "id": "VsxG52Fe8Po7",
        "colab": {
          "base_uri": "https://localhost:8080/",
          "height": 117,
          "referenced_widgets": [
            "46251183eaf744c58b21026118b89be5",
            "10787365d98747768513607888866f1c",
            "c1f33f8474fb446c9fd4c9dc46210198",
            "02c7740fce124ee9bbdeb9c7975da9c8",
            "68c1ce15595b421aabe2ecb241b85d6e",
            "ae48cf6dff114fcf874c6898b53a8069",
            "c354642316c447be8c11f756f0f4cab7",
            "82cc4e1bb0d448fab8732066e66da146",
            "8b0f5ca89f2e4ab8828e6923edb9ed2c",
            "1daea8bdcc2c4209a32fbc0cbd384e91",
            "f43ef76b04f3478485b41cdf39b2341e",
            "548f120ee0cc4da18870761c052c8930",
            "70cdb9df87ac4c47a5ceacdb4d96c37a",
            "64d617d7aab34911a253612264e89916",
            "a44447d63afd4b609416731e86f5ff5e",
            "54faa8eb359c47ddb306a090d5683bd7"
          ]
        },
        "outputId": "8038f3bd-5b23-454c-c73e-6f0cd0b0c241"
      },
      "source": [
        "# Load the csv of papers\n",
        "import pandas as pd \n",
        "data = pd.read_csv('/content/drive/Shareddrives/CS 586: Data & Web Semantics/Final Project/final_ib.csv')\n",
        "title_doi = list(data[['title', 'doi']].values)\n",
        "\n",
        "# Creating look up table for title and doi\n",
        "title_lookup = {}\n",
        "for value in tqdm(title_doi):\n",
        "  title_lookup[value[1]] = value[0] \n",
        "\n",
        "# Extract the doi values from the dataset and convert to the URIRef format\n",
        "doi_list = list(data['doi'].dropna().apply(lambda x: 'http://dx.doi.org/' + x.strip('doi.org').strip('http://dx.doi.org/')).values)\n",
        "\n",
        "# Only keep the papers that are cited by other papers in our list\n",
        "papers = []\n",
        "for doi in tqdm(doi_list):\n",
        "  triples_list = list(kg.triples((None, rdflib.URIRef('http://purl.org/spar/cito/cites'), rdflib.URIRef(str(doi)))))\n",
        "  if len(triples_list) > 0:\n",
        "    papers += triples_list\n"
      ],
      "execution_count": 13,
      "outputs": [
        {
          "output_type": "display_data",
          "data": {
            "application/vnd.jupyter.widget-view+json": {
              "model_id": "46251183eaf744c58b21026118b89be5",
              "version_minor": 0,
              "version_major": 2
            },
            "text/plain": [
              "HBox(children=(FloatProgress(value=0.0, max=8357.0), HTML(value='')))"
            ]
          },
          "metadata": {
            "tags": []
          }
        },
        {
          "output_type": "stream",
          "text": [
            "\n"
          ],
          "name": "stdout"
        },
        {
          "output_type": "display_data",
          "data": {
            "application/vnd.jupyter.widget-view+json": {
              "model_id": "8b0f5ca89f2e4ab8828e6923edb9ed2c",
              "version_minor": 0,
              "version_major": 2
            },
            "text/plain": [
              "HBox(children=(FloatProgress(value=0.0, max=7719.0), HTML(value='')))"
            ]
          },
          "metadata": {
            "tags": []
          }
        },
        {
          "output_type": "stream",
          "text": [
            "\n"
          ],
          "name": "stdout"
        }
      ]
    },
    {
      "cell_type": "markdown",
      "metadata": {
        "id": "y9fQ3psSsGnN"
      },
      "source": [
        "## **Generate the Subgraph**\n",
        "\n",
        "Since we don't need the entire knowledge graph, we'll create a subgraph that contains the papers from the previous step."
      ]
    },
    {
      "cell_type": "code",
      "metadata": {
        "colab": {
          "base_uri": "https://localhost:8080/",
          "height": 121,
          "referenced_widgets": [
            "fef8c69d20c64cb8a83e507933dbd585",
            "c0ac2a332f5f4b5eb74c11153e0df3b7",
            "295191a8d1114e2d836c3421e56deb2e",
            "68d48e60904142e5a339385fafdffb0c",
            "8228a20469814a3ba66eacccd946ddf8",
            "f49d49fe274842bc9bf34f4c16cdd8a9",
            "e5f75e95444048d9b543aedf38d711c3",
            "2f84c20ab2204eff984d84c863c5299c"
          ]
        },
        "id": "uaFkqBQLjzNO",
        "outputId": "66c929f2-98ab-41db-fc33-04fe2686d4d5"
      },
      "source": [
        "# Generate subgraph from the papers \n",
        "subgraph = rdflib.Graph()\n",
        "for paper in tqdm(papers):\n",
        "  subgraph.add(paper)\n",
        "\n",
        "# Check for successful subgraph creation below\n",
        "# Number of triples\n",
        "print(len(list(subgraph.triples((None, None, None)))))\n",
        "\n",
        "#Predicates\n",
        "print(len(set(subgraph.predicates())))\n",
        "\n",
        "# Predicate\n",
        "for pr in set(subgraph.predicates()):\n",
        "   print(pr)"
      ],
      "execution_count": 14,
      "outputs": [
        {
          "output_type": "display_data",
          "data": {
            "application/vnd.jupyter.widget-view+json": {
              "model_id": "fef8c69d20c64cb8a83e507933dbd585",
              "version_minor": 0,
              "version_major": 2
            },
            "text/plain": [
              "HBox(children=(FloatProgress(value=0.0, max=51518.0), HTML(value='')))"
            ]
          },
          "metadata": {
            "tags": []
          }
        },
        {
          "output_type": "stream",
          "text": [
            "\n",
            "15295\n",
            "1\n",
            "http://purl.org/spar/cito/cites\n"
          ],
          "name": "stdout"
        }
      ]
    },
    {
      "cell_type": "markdown",
      "metadata": {
        "id": "M1NGT4ORs-ZE"
      },
      "source": [
        "## **Convert to NetworkX Graph and run PageRank**\n",
        "\n",
        "We'll now need to convert our subgraph from the previous step to a directed NetworkX graph with weighted edges. The weighted edges ensure that the PageRank algorithm will converge. Once the PageRank is completed, we can save the rankings to a .tsv file. Note: We saved this as a .tsv file since some titles may have commas."
      ]
    },
    {
      "cell_type": "code",
      "metadata": {
        "colab": {
          "base_uri": "https://localhost:8080/"
        },
        "id": "_5Mo_CtkwpR1",
        "outputId": "de5bc4ae-6b51-4bd0-d6e6-5a2afaa271da"
      },
      "source": [
        "# Conversion to networkx graph for analysis\n",
        "networkGraph = rdflib_to_networkx_digraph(subgraph, calc_weights=True)\n",
        "\n",
        "# Check that this was successful\n",
        "print(\"Success! NetworkX Graph has length\", len(networkGraph))"
      ],
      "execution_count": 15,
      "outputs": [
        {
          "output_type": "stream",
          "text": [
            "Success! NetworkX Graph has length 10314\n"
          ],
          "name": "stdout"
        }
      ]
    },
    {
      "cell_type": "code",
      "metadata": {
        "id": "UWQuROyXx4Fw"
      },
      "source": [
        "# Generate the PageRank of the graph\n",
        "page_rankings = nx.pagerank(networkGraph)\n",
        "\n",
        "# Convert to .csv\n",
        "with open('final_ib_page_rankings_title.tsv', 'w') as file:\n",
        "  for key in page_rankings.keys():\n",
        "    doi = key.strip('http://dx.doi.org/')\n",
        "    if doi in title_lookup.keys():      \n",
        "      title = title_lookup[str(doi)]\n",
        "      file.write(\"%s\\t%s\\t%s\\n\"%(title,doi,page_rankings[key]))"
      ],
      "execution_count": 16,
      "outputs": []
    }
  ]
}