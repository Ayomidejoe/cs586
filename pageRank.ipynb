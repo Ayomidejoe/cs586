{
 "cells": [
  {
   "cell_type": "markdown",
   "metadata": {
    "id": "q6ibzlSDoRrQ"
   },
   "source": [
    "# **CS 586: Final Project**\n",
    "COVID-19: Understanding the range of incubation periods and how long individuals are contagious after recovery.\n",
    "-----------------------------------------------------------------------\n",
    "This purpose of this notebook is to take a .csv file of relevant papers and use NetworkX to run the PageRank algorithm. The results are then saved to a separate .csv file. "
   ]
  },
  {
   "cell_type": "markdown",
   "metadata": {
    "id": "z2Ox1BRtpf63"
   },
   "source": [
    "## **Installing Dependencies**\n",
    "This installs the modules that are not already provided. "
   ]
  },
  {
   "cell_type": "code",
   "execution_count": 1,
   "metadata": {
    "colab": {
     "base_uri": "https://localhost:8080/"
    },
    "id": "Fe09tES9CchV",
    "outputId": "4473dff9-61de-43f4-88a2-233affd853c3"
   },
   "outputs": [
    {
     "name": "stdout",
     "output_type": "stream",
     "text": [
      "Collecting rdflib\n",
      "  Downloading rdflib-5.0.0-py3-none-any.whl (231 kB)\n",
      "\u001b[K     |████████████████████████████████| 231 kB 4.4 MB/s eta 0:00:01\n",
      "\u001b[?25hCollecting isodate\n",
      "  Downloading isodate-0.6.0-py2.py3-none-any.whl (45 kB)\n",
      "\u001b[K     |████████████████████████████████| 45 kB 9.5 MB/s  eta 0:00:01\n",
      "\u001b[?25hRequirement already satisfied: pyparsing in /Users/lydia/opt/anaconda3/lib/python3.7/site-packages (from rdflib) (2.4.2)\n",
      "Requirement already satisfied: six in /Users/lydia/opt/anaconda3/lib/python3.7/site-packages (from rdflib) (1.12.0)\n",
      "Installing collected packages: isodate, rdflib\n",
      "Successfully installed isodate-0.6.0 rdflib-5.0.0\n",
      "Requirement already satisfied: networkx in /Users/lydia/opt/anaconda3/lib/python3.7/site-packages (2.3)\n",
      "Requirement already satisfied: decorator>=4.3.0 in /Users/lydia/opt/anaconda3/lib/python3.7/site-packages (from networkx) (4.4.0)\n",
      "Requirement already satisfied: tqdm in /Users/lydia/opt/anaconda3/lib/python3.7/site-packages (4.19.9)\n"
     ]
    }
   ],
   "source": [
    "# Installs dependencies\n",
    "!pip install rdflib\n",
    "!pip install networkx\n",
    "!pip install tqdm"
   ]
  },
  {
   "cell_type": "markdown",
   "metadata": {
    "id": "WFqlDcq-qH2C"
   },
   "source": [
    "## **Preparing the Knowledge Graph**\n",
    "\n",
    "In order to utilize the open-source knowledge graph, we'll parse the N-Triples file provided using `rdflib`."
   ]
  },
  {
   "cell_type": "code",
   "execution_count": 13,
   "metadata": {
    "id": "IhqpQY1XG-dm"
   },
   "outputs": [],
   "source": [
    "import rdflib\n",
    "from rdflib.extras.external_graph_libs import rdflib_to_networkx_digraph\n",
    "import networkx as nx\n",
    "from tqdm import tqdm"
   ]
  },
  {
   "cell_type": "code",
   "execution_count": 8,
   "metadata": {
    "colab": {
     "base_uri": "https://localhost:8080/"
    },
    "id": "jQBV-vY_Db7d",
    "outputId": "b5776670-d27c-414d-fd0e-1c6657ff7543"
   },
   "outputs": [
    {
     "name": "stderr",
     "output_type": "stream",
     "text": [
      "http://dx.doi.org/10.1137/040604947\\end{doi does not look like a valid URI, trying to serialize this will break.\n",
      "http://dx.doi.org/10.1137/040604947\\end{doi does not look like a valid URI, trying to serialize this will break.\n",
      "http://dx.doi.org/10.1137/040604947\\end{doi does not look like a valid URI, trying to serialize this will break.\n",
      "http://dx.doi.org/10.1137/040604947\\end{doi does not look like a valid URI, trying to serialize this will break.\n",
      "http://dx.doi.org/10.1137/040604947\\end{doi does not look like a valid URI, trying to serialize this will break.\n",
      "http://dx.doi.org/10.1137/040604947\\end{doi does not look like a valid URI, trying to serialize this will break.\n",
      "http://dx.doi.org/10.1137/040604947\\end{doi does not look like a valid URI, trying to serialize this will break.\n",
      "http://dx.doi.org/10.1137/040604947\\end{doi does not look like a valid URI, trying to serialize this will break.\n",
      "http://dx.doi.org/10.1137/040604947\\end{doi does not look like a valid URI, trying to serialize this will break.\n",
      "http://dx.doi.org/10.1137/040604947\\end{doi does not look like a valid URI, trying to serialize this will break.\n",
      "http://dx.doi.org/10.1137/040604947\\end{doi does not look like a valid URI, trying to serialize this will break.\n",
      "http://dx.doi.org/10.1137/040604947\\end{doi does not look like a valid URI, trying to serialize this will break.\n",
      "http://dx.doi.org/10.1137/040604947\\end{doi does not look like a valid URI, trying to serialize this will break.\n",
      "http://dx.doi.org/10.1137/040604947\\end{doi does not look like a valid URI, trying to serialize this will break.\n",
      "<http://idlab.github.io/covid19# does not look like a valid URI, trying to serialize this will break.\n",
      "<http://idlab.github.io/covid19# does not look like a valid URI, trying to serialize this will break.\n",
      "<http://idlab.github.io/covid19# does not look like a valid URI, trying to serialize this will break.\n",
      "<http://idlab.github.io/covid19# does not look like a valid URI, trying to serialize this will break.\n",
      "<http://idlab.github.io/covid19# does not look like a valid URI, trying to serialize this will break.\n",
      "<http://idlab.github.io/covid19# does not look like a valid URI, trying to serialize this will break.\n",
      "<http://idlab.github.io/covid19# does not look like a valid URI, trying to serialize this will break.\n",
      "<http://idlab.github.io/covid19# does not look like a valid URI, trying to serialize this will break.\n",
      "<http://idlab.github.io/covid19# does not look like a valid URI, trying to serialize this will break.\n"
     ]
    }
   ],
   "source": [
    "# Load the knowledge-graph (this will take a bit)\n",
    "# Note that the invalid URIs warnings are unfortunately due to the \n",
    "# errors in the open source dataset\n",
    "kg = rdflib.Graph()\n",
    "kg.load('data/covid-kg.nt', format='nt')"
   ]
  },
  {
   "cell_type": "code",
   "execution_count": 9,
   "metadata": {
    "colab": {
     "base_uri": "https://localhost:8080/"
    },
    "id": "AHQOHIQWIoU5",
    "outputId": "6f88f283-697d-4b65-c676-03344c13cd8a"
   },
   "outputs": [
    {
     "name": "stdout",
     "output_type": "stream",
     "text": [
      "5151961\n",
      "9\n",
      "1362044\n",
      "http://purl.org/spar/cito/cites\n",
      "http://xmlns.com/foaf/0.1/surname\n",
      "http://www.w3.org/1999/02/22-rdf-syntax-ns#type\n",
      "http://purl.org/spar/pro/creator\n",
      "http://dbpedia.org/ontology/country\n",
      "http://www.w3.org/ns/org#memberOf\n",
      "http://dbpedia.org/ontology/city\n",
      "http://purl.org/dc/terms/identifier\n",
      "http://xmlns.com/foaf/0.1/firstName\n"
     ]
    }
   ],
   "source": [
    "# Check that we were able to load the knowledge graph properly\n",
    "# Number of triples\n",
    "print(len(list(kg.triples((None, None, None)))))\n",
    "\n",
    "#Predicates\n",
    "print(len(set(kg.predicates())))\n",
    "\n",
    "# Number of subjects\n",
    "print(len(set(kg.subjects())))\n",
    "\n",
    "# Predicates\n",
    "for pr in set(kg.predicates()):\n",
    "   print(pr)"
   ]
  },
  {
   "cell_type": "markdown",
   "metadata": {
    "id": "Unq5n7vPqxr9"
   },
   "source": [
    "## **Prepare the Dataset**\n",
    "\n",
    "Below we take the .csv file containing the relevant papers and only keep the papers that have been cited in other papers."
   ]
  },
  {
   "cell_type": "code",
   "execution_count": 14,
   "metadata": {
    "colab": {
     "base_uri": "https://localhost:8080/",
     "height": 67,
     "referenced_widgets": [
      "29a919176bd54e6fb485ffb7783e53e6",
      "7c1e3fc675324664942a1e6ee8c8b068",
      "4615f6fd6dd643709a0c96f77fdf2dff",
      "6c7ef57cc37b45888c9b2df145b50cec",
      "0008bc9248594b62ba8acd73f85393b2",
      "b61f08b0f3994f22b44512406e2080f0",
      "73aff27d73d54e409be07b489201227e",
      "6adeeb0fe98047f8a00d126254dda955"
     ]
    },
    "id": "VsxG52Fe8Po7",
    "outputId": "5c3bbe23-b991-462b-bb2e-ff181e37c53a"
   },
   "outputs": [
    {
     "name": "stderr",
     "output_type": "stream",
     "text": [
      "100%|██████████| 7719/7719 [00:00<00:00, 21133.64it/s]\n"
     ]
    }
   ],
   "source": [
    "# Load the csv of papers\n",
    "import pandas as pd \n",
    "data = pd.read_csv('csvs/final_ib.csv')\n",
    "\n",
    "# Extract the doi values from the dataset and convert to the URIRef format\n",
    "doi_list = list(data['doi'].dropna().apply(lambda x: 'http://dx.doi.org/' + x.strip('doi.org').strip('http://dx.doi.org/')).values)\n",
    "\n",
    "# Only keep the papers that are cited by other papers in our list\n",
    "papers = []\n",
    "for doi in tqdm(doi_list):\n",
    "  triples_list = list(kg.triples((None, rdflib.URIRef('http://purl.org/spar/cito/cites'), rdflib.URIRef(str(doi)))))\n",
    "  if len(triples_list) > 0:\n",
    "    papers += triples_list\n"
   ]
  },
  {
   "cell_type": "markdown",
   "metadata": {
    "id": "y9fQ3psSsGnN"
   },
   "source": [
    "## **Generate the Subgraph**\n",
    "\n",
    "Since we don't need the entire knowledge graph, we'll create a subgraph that contains the papers from the previous step."
   ]
  },
  {
   "cell_type": "code",
   "execution_count": 15,
   "metadata": {
    "colab": {
     "base_uri": "https://localhost:8080/",
     "height": 139,
     "referenced_widgets": [
      "f8dc674818684702829a04c777d4034b",
      "3da0f24577a8460a8c930e5099a55448",
      "3c06b56354384a689bdc2a7937fdfb66",
      "cdd2af65871749449242589840b6d549",
      "a42e08e88edf4bc6908700d89508be19",
      "4502f68409c24b1280bc5e962e69609d",
      "53a851782c8441c0b074ba237024f712",
      "d70e918644cf4d678c4f66bb1cfe03bb"
     ]
    },
    "id": "uaFkqBQLjzNO",
    "outputId": "01cd6713-0684-476d-8822-ffb16d765542"
   },
   "outputs": [
    {
     "name": "stderr",
     "output_type": "stream",
     "text": [
      "100%|██████████| 51518/51518 [00:00<00:00, 115693.07it/s]\n"
     ]
    },
    {
     "name": "stdout",
     "output_type": "stream",
     "text": [
      "15295\n",
      "1\n",
      "9432\n",
      "http://purl.org/spar/cito/cites\n"
     ]
    }
   ],
   "source": [
    "# Generate subgraph from the papers \n",
    "subgraph = rdflib.Graph()\n",
    "for paper in tqdm(papers):\n",
    "  subgraph.add(paper)\n",
    "\n",
    "# Check for successful subgraph creation below\n",
    "# Number of triples\n",
    "print(len(list(subgraph.triples((None, None, None)))))\n",
    "\n",
    "#Predicates\n",
    "print(len(set(subgraph.predicates())))\n",
    "\n",
    "# Number of subjects\n",
    "print(len(set(subgraph.subjects())))\n",
    "\n",
    "# Predicate\n",
    "for pr in set(subgraph.predicates()):\n",
    "   print(pr)"
   ]
  },
  {
   "cell_type": "markdown",
   "metadata": {
    "id": "M1NGT4ORs-ZE"
   },
   "source": [
    "## **Convert to NetworkX Graph and run PageRank**\n",
    "\n",
    "We'll now need to convert our subgraph from the previous step to a directed NetworkX graph with weighted edges. The weighted edges ensure that the PageRank algorithm will converge. Once the PageRank is completed, we can save the rankings to a .csv file."
   ]
  },
  {
   "cell_type": "code",
   "execution_count": 16,
   "metadata": {
    "colab": {
     "base_uri": "https://localhost:8080/"
    },
    "id": "_5Mo_CtkwpR1",
    "outputId": "781ad13b-db54-4f74-a475-9e9ed5a818a9"
   },
   "outputs": [
    {
     "name": "stdout",
     "output_type": "stream",
     "text": [
      "Success! NetworkX Graph has length 10314\n",
      "Number of Nodes: 10314\n",
      "Number of Edges: 15295\n"
     ]
    }
   ],
   "source": [
    "# Conversion to networkx graph for analysis\n",
    "networkGraph = rdflib_to_networkx_digraph(subgraph, calc_weights=True)\n",
    "\n",
    "# Check that this was successful\n",
    "print(\"Success! NetworkX Graph has length\", len(networkGraph))\n",
    "print(\"Number of Nodes:\", networkGraph.number_of_nodes())\n",
    "print(\"Number of Edges:\", networkGraph.number_of_edges())"
   ]
  },
  {
   "cell_type": "code",
   "execution_count": 17,
   "metadata": {
    "id": "UWQuROyXx4Fw"
   },
   "outputs": [],
   "source": [
    "# Generate the PageRank of the graph\n",
    "page_rankings = nx.pagerank(networkGraph)\n",
    "\n",
    "# Convert to .csv\n",
    "with open('csvs/page_ranking.csv', 'w') as file:\n",
    "  for key in page_rankings.keys():\n",
    "    file.write(\"%s,%s\\n\"%(key,page_rankings[key]))"
   ]
  },
  {
   "cell_type": "code",
   "execution_count": null,
   "metadata": {},
   "outputs": [],
   "source": []
  }
 ],
 "metadata": {
  "accelerator": "GPU",
  "colab": {
   "collapsed_sections": [],
   "name": "CS586_Group_E_Final.ipynb",
   "provenance": []
  },
  "kernelspec": {
   "display_name": "Python 3",
   "language": "python",
   "name": "python3"
  },
  "language_info": {
   "codemirror_mode": {
    "name": "ipython",
    "version": 3
   },
   "file_extension": ".py",
   "mimetype": "text/x-python",
   "name": "python",
   "nbconvert_exporter": "python",
   "pygments_lexer": "ipython3",
   "version": "3.7.4"
  },
  "widgets": {
   "application/vnd.jupyter.widget-state+json": {
    "0008bc9248594b62ba8acd73f85393b2": {
     "model_module": "@jupyter-widgets/controls",
     "model_name": "ProgressStyleModel",
     "state": {
      "_model_module": "@jupyter-widgets/controls",
      "_model_module_version": "1.5.0",
      "_model_name": "ProgressStyleModel",
      "_view_count": null,
      "_view_module": "@jupyter-widgets/base",
      "_view_module_version": "1.2.0",
      "_view_name": "StyleView",
      "bar_color": null,
      "description_width": "initial"
     }
    },
    "29a919176bd54e6fb485ffb7783e53e6": {
     "model_module": "@jupyter-widgets/controls",
     "model_name": "HBoxModel",
     "state": {
      "_dom_classes": [],
      "_model_module": "@jupyter-widgets/controls",
      "_model_module_version": "1.5.0",
      "_model_name": "HBoxModel",
      "_view_count": null,
      "_view_module": "@jupyter-widgets/controls",
      "_view_module_version": "1.5.0",
      "_view_name": "HBoxView",
      "box_style": "",
      "children": [
       "IPY_MODEL_4615f6fd6dd643709a0c96f77fdf2dff",
       "IPY_MODEL_6c7ef57cc37b45888c9b2df145b50cec"
      ],
      "layout": "IPY_MODEL_7c1e3fc675324664942a1e6ee8c8b068"
     }
    },
    "3c06b56354384a689bdc2a7937fdfb66": {
     "model_module": "@jupyter-widgets/controls",
     "model_name": "FloatProgressModel",
     "state": {
      "_dom_classes": [],
      "_model_module": "@jupyter-widgets/controls",
      "_model_module_version": "1.5.0",
      "_model_name": "FloatProgressModel",
      "_view_count": null,
      "_view_module": "@jupyter-widgets/controls",
      "_view_module_version": "1.5.0",
      "_view_name": "ProgressView",
      "bar_style": "success",
      "description": "100%",
      "description_tooltip": null,
      "layout": "IPY_MODEL_4502f68409c24b1280bc5e962e69609d",
      "max": 51518,
      "min": 0,
      "orientation": "horizontal",
      "style": "IPY_MODEL_a42e08e88edf4bc6908700d89508be19",
      "value": 51518
     }
    },
    "3da0f24577a8460a8c930e5099a55448": {
     "model_module": "@jupyter-widgets/base",
     "model_name": "LayoutModel",
     "state": {
      "_model_module": "@jupyter-widgets/base",
      "_model_module_version": "1.2.0",
      "_model_name": "LayoutModel",
      "_view_count": null,
      "_view_module": "@jupyter-widgets/base",
      "_view_module_version": "1.2.0",
      "_view_name": "LayoutView",
      "align_content": null,
      "align_items": null,
      "align_self": null,
      "border": null,
      "bottom": null,
      "display": null,
      "flex": null,
      "flex_flow": null,
      "grid_area": null,
      "grid_auto_columns": null,
      "grid_auto_flow": null,
      "grid_auto_rows": null,
      "grid_column": null,
      "grid_gap": null,
      "grid_row": null,
      "grid_template_areas": null,
      "grid_template_columns": null,
      "grid_template_rows": null,
      "height": null,
      "justify_content": null,
      "justify_items": null,
      "left": null,
      "margin": null,
      "max_height": null,
      "max_width": null,
      "min_height": null,
      "min_width": null,
      "object_fit": null,
      "object_position": null,
      "order": null,
      "overflow": null,
      "overflow_x": null,
      "overflow_y": null,
      "padding": null,
      "right": null,
      "top": null,
      "visibility": null,
      "width": null
     }
    },
    "4502f68409c24b1280bc5e962e69609d": {
     "model_module": "@jupyter-widgets/base",
     "model_name": "LayoutModel",
     "state": {
      "_model_module": "@jupyter-widgets/base",
      "_model_module_version": "1.2.0",
      "_model_name": "LayoutModel",
      "_view_count": null,
      "_view_module": "@jupyter-widgets/base",
      "_view_module_version": "1.2.0",
      "_view_name": "LayoutView",
      "align_content": null,
      "align_items": null,
      "align_self": null,
      "border": null,
      "bottom": null,
      "display": null,
      "flex": null,
      "flex_flow": null,
      "grid_area": null,
      "grid_auto_columns": null,
      "grid_auto_flow": null,
      "grid_auto_rows": null,
      "grid_column": null,
      "grid_gap": null,
      "grid_row": null,
      "grid_template_areas": null,
      "grid_template_columns": null,
      "grid_template_rows": null,
      "height": null,
      "justify_content": null,
      "justify_items": null,
      "left": null,
      "margin": null,
      "max_height": null,
      "max_width": null,
      "min_height": null,
      "min_width": null,
      "object_fit": null,
      "object_position": null,
      "order": null,
      "overflow": null,
      "overflow_x": null,
      "overflow_y": null,
      "padding": null,
      "right": null,
      "top": null,
      "visibility": null,
      "width": null
     }
    },
    "4615f6fd6dd643709a0c96f77fdf2dff": {
     "model_module": "@jupyter-widgets/controls",
     "model_name": "FloatProgressModel",
     "state": {
      "_dom_classes": [],
      "_model_module": "@jupyter-widgets/controls",
      "_model_module_version": "1.5.0",
      "_model_name": "FloatProgressModel",
      "_view_count": null,
      "_view_module": "@jupyter-widgets/controls",
      "_view_module_version": "1.5.0",
      "_view_name": "ProgressView",
      "bar_style": "success",
      "description": "100%",
      "description_tooltip": null,
      "layout": "IPY_MODEL_b61f08b0f3994f22b44512406e2080f0",
      "max": 7719,
      "min": 0,
      "orientation": "horizontal",
      "style": "IPY_MODEL_0008bc9248594b62ba8acd73f85393b2",
      "value": 7719
     }
    },
    "53a851782c8441c0b074ba237024f712": {
     "model_module": "@jupyter-widgets/controls",
     "model_name": "DescriptionStyleModel",
     "state": {
      "_model_module": "@jupyter-widgets/controls",
      "_model_module_version": "1.5.0",
      "_model_name": "DescriptionStyleModel",
      "_view_count": null,
      "_view_module": "@jupyter-widgets/base",
      "_view_module_version": "1.2.0",
      "_view_name": "StyleView",
      "description_width": ""
     }
    },
    "6adeeb0fe98047f8a00d126254dda955": {
     "model_module": "@jupyter-widgets/base",
     "model_name": "LayoutModel",
     "state": {
      "_model_module": "@jupyter-widgets/base",
      "_model_module_version": "1.2.0",
      "_model_name": "LayoutModel",
      "_view_count": null,
      "_view_module": "@jupyter-widgets/base",
      "_view_module_version": "1.2.0",
      "_view_name": "LayoutView",
      "align_content": null,
      "align_items": null,
      "align_self": null,
      "border": null,
      "bottom": null,
      "display": null,
      "flex": null,
      "flex_flow": null,
      "grid_area": null,
      "grid_auto_columns": null,
      "grid_auto_flow": null,
      "grid_auto_rows": null,
      "grid_column": null,
      "grid_gap": null,
      "grid_row": null,
      "grid_template_areas": null,
      "grid_template_columns": null,
      "grid_template_rows": null,
      "height": null,
      "justify_content": null,
      "justify_items": null,
      "left": null,
      "margin": null,
      "max_height": null,
      "max_width": null,
      "min_height": null,
      "min_width": null,
      "object_fit": null,
      "object_position": null,
      "order": null,
      "overflow": null,
      "overflow_x": null,
      "overflow_y": null,
      "padding": null,
      "right": null,
      "top": null,
      "visibility": null,
      "width": null
     }
    },
    "6c7ef57cc37b45888c9b2df145b50cec": {
     "model_module": "@jupyter-widgets/controls",
     "model_name": "HTMLModel",
     "state": {
      "_dom_classes": [],
      "_model_module": "@jupyter-widgets/controls",
      "_model_module_version": "1.5.0",
      "_model_name": "HTMLModel",
      "_view_count": null,
      "_view_module": "@jupyter-widgets/controls",
      "_view_module_version": "1.5.0",
      "_view_name": "HTMLView",
      "description": "",
      "description_tooltip": null,
      "layout": "IPY_MODEL_6adeeb0fe98047f8a00d126254dda955",
      "placeholder": "​",
      "style": "IPY_MODEL_73aff27d73d54e409be07b489201227e",
      "value": " 7719/7719 [00:00&lt;00:00, 18028.52it/s]"
     }
    },
    "73aff27d73d54e409be07b489201227e": {
     "model_module": "@jupyter-widgets/controls",
     "model_name": "DescriptionStyleModel",
     "state": {
      "_model_module": "@jupyter-widgets/controls",
      "_model_module_version": "1.5.0",
      "_model_name": "DescriptionStyleModel",
      "_view_count": null,
      "_view_module": "@jupyter-widgets/base",
      "_view_module_version": "1.2.0",
      "_view_name": "StyleView",
      "description_width": ""
     }
    },
    "7c1e3fc675324664942a1e6ee8c8b068": {
     "model_module": "@jupyter-widgets/base",
     "model_name": "LayoutModel",
     "state": {
      "_model_module": "@jupyter-widgets/base",
      "_model_module_version": "1.2.0",
      "_model_name": "LayoutModel",
      "_view_count": null,
      "_view_module": "@jupyter-widgets/base",
      "_view_module_version": "1.2.0",
      "_view_name": "LayoutView",
      "align_content": null,
      "align_items": null,
      "align_self": null,
      "border": null,
      "bottom": null,
      "display": null,
      "flex": null,
      "flex_flow": null,
      "grid_area": null,
      "grid_auto_columns": null,
      "grid_auto_flow": null,
      "grid_auto_rows": null,
      "grid_column": null,
      "grid_gap": null,
      "grid_row": null,
      "grid_template_areas": null,
      "grid_template_columns": null,
      "grid_template_rows": null,
      "height": null,
      "justify_content": null,
      "justify_items": null,
      "left": null,
      "margin": null,
      "max_height": null,
      "max_width": null,
      "min_height": null,
      "min_width": null,
      "object_fit": null,
      "object_position": null,
      "order": null,
      "overflow": null,
      "overflow_x": null,
      "overflow_y": null,
      "padding": null,
      "right": null,
      "top": null,
      "visibility": null,
      "width": null
     }
    },
    "a42e08e88edf4bc6908700d89508be19": {
     "model_module": "@jupyter-widgets/controls",
     "model_name": "ProgressStyleModel",
     "state": {
      "_model_module": "@jupyter-widgets/controls",
      "_model_module_version": "1.5.0",
      "_model_name": "ProgressStyleModel",
      "_view_count": null,
      "_view_module": "@jupyter-widgets/base",
      "_view_module_version": "1.2.0",
      "_view_name": "StyleView",
      "bar_color": null,
      "description_width": "initial"
     }
    },
    "b61f08b0f3994f22b44512406e2080f0": {
     "model_module": "@jupyter-widgets/base",
     "model_name": "LayoutModel",
     "state": {
      "_model_module": "@jupyter-widgets/base",
      "_model_module_version": "1.2.0",
      "_model_name": "LayoutModel",
      "_view_count": null,
      "_view_module": "@jupyter-widgets/base",
      "_view_module_version": "1.2.0",
      "_view_name": "LayoutView",
      "align_content": null,
      "align_items": null,
      "align_self": null,
      "border": null,
      "bottom": null,
      "display": null,
      "flex": null,
      "flex_flow": null,
      "grid_area": null,
      "grid_auto_columns": null,
      "grid_auto_flow": null,
      "grid_auto_rows": null,
      "grid_column": null,
      "grid_gap": null,
      "grid_row": null,
      "grid_template_areas": null,
      "grid_template_columns": null,
      "grid_template_rows": null,
      "height": null,
      "justify_content": null,
      "justify_items": null,
      "left": null,
      "margin": null,
      "max_height": null,
      "max_width": null,
      "min_height": null,
      "min_width": null,
      "object_fit": null,
      "object_position": null,
      "order": null,
      "overflow": null,
      "overflow_x": null,
      "overflow_y": null,
      "padding": null,
      "right": null,
      "top": null,
      "visibility": null,
      "width": null
     }
    },
    "cdd2af65871749449242589840b6d549": {
     "model_module": "@jupyter-widgets/controls",
     "model_name": "HTMLModel",
     "state": {
      "_dom_classes": [],
      "_model_module": "@jupyter-widgets/controls",
      "_model_module_version": "1.5.0",
      "_model_name": "HTMLModel",
      "_view_count": null,
      "_view_module": "@jupyter-widgets/controls",
      "_view_module_version": "1.5.0",
      "_view_name": "HTMLView",
      "description": "",
      "description_tooltip": null,
      "layout": "IPY_MODEL_d70e918644cf4d678c4f66bb1cfe03bb",
      "placeholder": "​",
      "style": "IPY_MODEL_53a851782c8441c0b074ba237024f712",
      "value": " 51518/51518 [00:00&lt;00:00, 95991.93it/s]"
     }
    },
    "d70e918644cf4d678c4f66bb1cfe03bb": {
     "model_module": "@jupyter-widgets/base",
     "model_name": "LayoutModel",
     "state": {
      "_model_module": "@jupyter-widgets/base",
      "_model_module_version": "1.2.0",
      "_model_name": "LayoutModel",
      "_view_count": null,
      "_view_module": "@jupyter-widgets/base",
      "_view_module_version": "1.2.0",
      "_view_name": "LayoutView",
      "align_content": null,
      "align_items": null,
      "align_self": null,
      "border": null,
      "bottom": null,
      "display": null,
      "flex": null,
      "flex_flow": null,
      "grid_area": null,
      "grid_auto_columns": null,
      "grid_auto_flow": null,
      "grid_auto_rows": null,
      "grid_column": null,
      "grid_gap": null,
      "grid_row": null,
      "grid_template_areas": null,
      "grid_template_columns": null,
      "grid_template_rows": null,
      "height": null,
      "justify_content": null,
      "justify_items": null,
      "left": null,
      "margin": null,
      "max_height": null,
      "max_width": null,
      "min_height": null,
      "min_width": null,
      "object_fit": null,
      "object_position": null,
      "order": null,
      "overflow": null,
      "overflow_x": null,
      "overflow_y": null,
      "padding": null,
      "right": null,
      "top": null,
      "visibility": null,
      "width": null
     }
    },
    "f8dc674818684702829a04c777d4034b": {
     "model_module": "@jupyter-widgets/controls",
     "model_name": "HBoxModel",
     "state": {
      "_dom_classes": [],
      "_model_module": "@jupyter-widgets/controls",
      "_model_module_version": "1.5.0",
      "_model_name": "HBoxModel",
      "_view_count": null,
      "_view_module": "@jupyter-widgets/controls",
      "_view_module_version": "1.5.0",
      "_view_name": "HBoxView",
      "box_style": "",
      "children": [
       "IPY_MODEL_3c06b56354384a689bdc2a7937fdfb66",
       "IPY_MODEL_cdd2af65871749449242589840b6d549"
      ],
      "layout": "IPY_MODEL_3da0f24577a8460a8c930e5099a55448"
     }
    }
   }
  }
 },
 "nbformat": 4,
 "nbformat_minor": 1
}
