{
  "nbformat": 4,
  "nbformat_minor": 0,
  "metadata": {
    "colab": {
      "name": "CS586_Group_E_Final.ipynb",
      "provenance": [],
      "collapsed_sections": []
    },
    "kernelspec": {
      "name": "python3",
      "display_name": "Python 3"
    },
    "accelerator": "GPU",
    "widgets": {
      "application/vnd.jupyter.widget-state+json": {
        "29a919176bd54e6fb485ffb7783e53e6": {
          "model_module": "@jupyter-widgets/controls",
          "model_name": "HBoxModel",
          "state": {
            "_view_name": "HBoxView",
            "_dom_classes": [],
            "_model_name": "HBoxModel",
            "_view_module": "@jupyter-widgets/controls",
            "_model_module_version": "1.5.0",
            "_view_count": null,
            "_view_module_version": "1.5.0",
            "box_style": "",
            "layout": "IPY_MODEL_7c1e3fc675324664942a1e6ee8c8b068",
            "_model_module": "@jupyter-widgets/controls",
            "children": [
              "IPY_MODEL_4615f6fd6dd643709a0c96f77fdf2dff",
              "IPY_MODEL_6c7ef57cc37b45888c9b2df145b50cec"
            ]
          }
        },
        "7c1e3fc675324664942a1e6ee8c8b068": {
          "model_module": "@jupyter-widgets/base",
          "model_name": "LayoutModel",
          "state": {
            "_view_name": "LayoutView",
            "grid_template_rows": null,
            "right": null,
            "justify_content": null,
            "_view_module": "@jupyter-widgets/base",
            "overflow": null,
            "_model_module_version": "1.2.0",
            "_view_count": null,
            "flex_flow": null,
            "width": null,
            "min_width": null,
            "border": null,
            "align_items": null,
            "bottom": null,
            "_model_module": "@jupyter-widgets/base",
            "top": null,
            "grid_column": null,
            "overflow_y": null,
            "overflow_x": null,
            "grid_auto_flow": null,
            "grid_area": null,
            "grid_template_columns": null,
            "flex": null,
            "_model_name": "LayoutModel",
            "justify_items": null,
            "grid_row": null,
            "max_height": null,
            "align_content": null,
            "visibility": null,
            "align_self": null,
            "height": null,
            "min_height": null,
            "padding": null,
            "grid_auto_rows": null,
            "grid_gap": null,
            "max_width": null,
            "order": null,
            "_view_module_version": "1.2.0",
            "grid_template_areas": null,
            "object_position": null,
            "object_fit": null,
            "grid_auto_columns": null,
            "margin": null,
            "display": null,
            "left": null
          }
        },
        "4615f6fd6dd643709a0c96f77fdf2dff": {
          "model_module": "@jupyter-widgets/controls",
          "model_name": "FloatProgressModel",
          "state": {
            "_view_name": "ProgressView",
            "style": "IPY_MODEL_0008bc9248594b62ba8acd73f85393b2",
            "_dom_classes": [],
            "description": "100%",
            "_model_name": "FloatProgressModel",
            "bar_style": "success",
            "max": 7719,
            "_view_module": "@jupyter-widgets/controls",
            "_model_module_version": "1.5.0",
            "value": 7719,
            "_view_count": null,
            "_view_module_version": "1.5.0",
            "orientation": "horizontal",
            "min": 0,
            "description_tooltip": null,
            "_model_module": "@jupyter-widgets/controls",
            "layout": "IPY_MODEL_b61f08b0f3994f22b44512406e2080f0"
          }
        },
        "6c7ef57cc37b45888c9b2df145b50cec": {
          "model_module": "@jupyter-widgets/controls",
          "model_name": "HTMLModel",
          "state": {
            "_view_name": "HTMLView",
            "style": "IPY_MODEL_73aff27d73d54e409be07b489201227e",
            "_dom_classes": [],
            "description": "",
            "_model_name": "HTMLModel",
            "placeholder": "​",
            "_view_module": "@jupyter-widgets/controls",
            "_model_module_version": "1.5.0",
            "value": " 7719/7719 [00:00&lt;00:00, 18028.52it/s]",
            "_view_count": null,
            "_view_module_version": "1.5.0",
            "description_tooltip": null,
            "_model_module": "@jupyter-widgets/controls",
            "layout": "IPY_MODEL_6adeeb0fe98047f8a00d126254dda955"
          }
        },
        "0008bc9248594b62ba8acd73f85393b2": {
          "model_module": "@jupyter-widgets/controls",
          "model_name": "ProgressStyleModel",
          "state": {
            "_view_name": "StyleView",
            "_model_name": "ProgressStyleModel",
            "description_width": "initial",
            "_view_module": "@jupyter-widgets/base",
            "_model_module_version": "1.5.0",
            "_view_count": null,
            "_view_module_version": "1.2.0",
            "bar_color": null,
            "_model_module": "@jupyter-widgets/controls"
          }
        },
        "b61f08b0f3994f22b44512406e2080f0": {
          "model_module": "@jupyter-widgets/base",
          "model_name": "LayoutModel",
          "state": {
            "_view_name": "LayoutView",
            "grid_template_rows": null,
            "right": null,
            "justify_content": null,
            "_view_module": "@jupyter-widgets/base",
            "overflow": null,
            "_model_module_version": "1.2.0",
            "_view_count": null,
            "flex_flow": null,
            "width": null,
            "min_width": null,
            "border": null,
            "align_items": null,
            "bottom": null,
            "_model_module": "@jupyter-widgets/base",
            "top": null,
            "grid_column": null,
            "overflow_y": null,
            "overflow_x": null,
            "grid_auto_flow": null,
            "grid_area": null,
            "grid_template_columns": null,
            "flex": null,
            "_model_name": "LayoutModel",
            "justify_items": null,
            "grid_row": null,
            "max_height": null,
            "align_content": null,
            "visibility": null,
            "align_self": null,
            "height": null,
            "min_height": null,
            "padding": null,
            "grid_auto_rows": null,
            "grid_gap": null,
            "max_width": null,
            "order": null,
            "_view_module_version": "1.2.0",
            "grid_template_areas": null,
            "object_position": null,
            "object_fit": null,
            "grid_auto_columns": null,
            "margin": null,
            "display": null,
            "left": null
          }
        },
        "73aff27d73d54e409be07b489201227e": {
          "model_module": "@jupyter-widgets/controls",
          "model_name": "DescriptionStyleModel",
          "state": {
            "_view_name": "StyleView",
            "_model_name": "DescriptionStyleModel",
            "description_width": "",
            "_view_module": "@jupyter-widgets/base",
            "_model_module_version": "1.5.0",
            "_view_count": null,
            "_view_module_version": "1.2.0",
            "_model_module": "@jupyter-widgets/controls"
          }
        },
        "6adeeb0fe98047f8a00d126254dda955": {
          "model_module": "@jupyter-widgets/base",
          "model_name": "LayoutModel",
          "state": {
            "_view_name": "LayoutView",
            "grid_template_rows": null,
            "right": null,
            "justify_content": null,
            "_view_module": "@jupyter-widgets/base",
            "overflow": null,
            "_model_module_version": "1.2.0",
            "_view_count": null,
            "flex_flow": null,
            "width": null,
            "min_width": null,
            "border": null,
            "align_items": null,
            "bottom": null,
            "_model_module": "@jupyter-widgets/base",
            "top": null,
            "grid_column": null,
            "overflow_y": null,
            "overflow_x": null,
            "grid_auto_flow": null,
            "grid_area": null,
            "grid_template_columns": null,
            "flex": null,
            "_model_name": "LayoutModel",
            "justify_items": null,
            "grid_row": null,
            "max_height": null,
            "align_content": null,
            "visibility": null,
            "align_self": null,
            "height": null,
            "min_height": null,
            "padding": null,
            "grid_auto_rows": null,
            "grid_gap": null,
            "max_width": null,
            "order": null,
            "_view_module_version": "1.2.0",
            "grid_template_areas": null,
            "object_position": null,
            "object_fit": null,
            "grid_auto_columns": null,
            "margin": null,
            "display": null,
            "left": null
          }
        },
        "f8dc674818684702829a04c777d4034b": {
          "model_module": "@jupyter-widgets/controls",
          "model_name": "HBoxModel",
          "state": {
            "_view_name": "HBoxView",
            "_dom_classes": [],
            "_model_name": "HBoxModel",
            "_view_module": "@jupyter-widgets/controls",
            "_model_module_version": "1.5.0",
            "_view_count": null,
            "_view_module_version": "1.5.0",
            "box_style": "",
            "layout": "IPY_MODEL_3da0f24577a8460a8c930e5099a55448",
            "_model_module": "@jupyter-widgets/controls",
            "children": [
              "IPY_MODEL_3c06b56354384a689bdc2a7937fdfb66",
              "IPY_MODEL_cdd2af65871749449242589840b6d549"
            ]
          }
        },
        "3da0f24577a8460a8c930e5099a55448": {
          "model_module": "@jupyter-widgets/base",
          "model_name": "LayoutModel",
          "state": {
            "_view_name": "LayoutView",
            "grid_template_rows": null,
            "right": null,
            "justify_content": null,
            "_view_module": "@jupyter-widgets/base",
            "overflow": null,
            "_model_module_version": "1.2.0",
            "_view_count": null,
            "flex_flow": null,
            "width": null,
            "min_width": null,
            "border": null,
            "align_items": null,
            "bottom": null,
            "_model_module": "@jupyter-widgets/base",
            "top": null,
            "grid_column": null,
            "overflow_y": null,
            "overflow_x": null,
            "grid_auto_flow": null,
            "grid_area": null,
            "grid_template_columns": null,
            "flex": null,
            "_model_name": "LayoutModel",
            "justify_items": null,
            "grid_row": null,
            "max_height": null,
            "align_content": null,
            "visibility": null,
            "align_self": null,
            "height": null,
            "min_height": null,
            "padding": null,
            "grid_auto_rows": null,
            "grid_gap": null,
            "max_width": null,
            "order": null,
            "_view_module_version": "1.2.0",
            "grid_template_areas": null,
            "object_position": null,
            "object_fit": null,
            "grid_auto_columns": null,
            "margin": null,
            "display": null,
            "left": null
          }
        },
        "3c06b56354384a689bdc2a7937fdfb66": {
          "model_module": "@jupyter-widgets/controls",
          "model_name": "FloatProgressModel",
          "state": {
            "_view_name": "ProgressView",
            "style": "IPY_MODEL_a42e08e88edf4bc6908700d89508be19",
            "_dom_classes": [],
            "description": "100%",
            "_model_name": "FloatProgressModel",
            "bar_style": "success",
            "max": 51518,
            "_view_module": "@jupyter-widgets/controls",
            "_model_module_version": "1.5.0",
            "value": 51518,
            "_view_count": null,
            "_view_module_version": "1.5.0",
            "orientation": "horizontal",
            "min": 0,
            "description_tooltip": null,
            "_model_module": "@jupyter-widgets/controls",
            "layout": "IPY_MODEL_4502f68409c24b1280bc5e962e69609d"
          }
        },
        "cdd2af65871749449242589840b6d549": {
          "model_module": "@jupyter-widgets/controls",
          "model_name": "HTMLModel",
          "state": {
            "_view_name": "HTMLView",
            "style": "IPY_MODEL_53a851782c8441c0b074ba237024f712",
            "_dom_classes": [],
            "description": "",
            "_model_name": "HTMLModel",
            "placeholder": "​",
            "_view_module": "@jupyter-widgets/controls",
            "_model_module_version": "1.5.0",
            "value": " 51518/51518 [00:00&lt;00:00, 95991.93it/s]",
            "_view_count": null,
            "_view_module_version": "1.5.0",
            "description_tooltip": null,
            "_model_module": "@jupyter-widgets/controls",
            "layout": "IPY_MODEL_d70e918644cf4d678c4f66bb1cfe03bb"
          }
        },
        "a42e08e88edf4bc6908700d89508be19": {
          "model_module": "@jupyter-widgets/controls",
          "model_name": "ProgressStyleModel",
          "state": {
            "_view_name": "StyleView",
            "_model_name": "ProgressStyleModel",
            "description_width": "initial",
            "_view_module": "@jupyter-widgets/base",
            "_model_module_version": "1.5.0",
            "_view_count": null,
            "_view_module_version": "1.2.0",
            "bar_color": null,
            "_model_module": "@jupyter-widgets/controls"
          }
        },
        "4502f68409c24b1280bc5e962e69609d": {
          "model_module": "@jupyter-widgets/base",
          "model_name": "LayoutModel",
          "state": {
            "_view_name": "LayoutView",
            "grid_template_rows": null,
            "right": null,
            "justify_content": null,
            "_view_module": "@jupyter-widgets/base",
            "overflow": null,
            "_model_module_version": "1.2.0",
            "_view_count": null,
            "flex_flow": null,
            "width": null,
            "min_width": null,
            "border": null,
            "align_items": null,
            "bottom": null,
            "_model_module": "@jupyter-widgets/base",
            "top": null,
            "grid_column": null,
            "overflow_y": null,
            "overflow_x": null,
            "grid_auto_flow": null,
            "grid_area": null,
            "grid_template_columns": null,
            "flex": null,
            "_model_name": "LayoutModel",
            "justify_items": null,
            "grid_row": null,
            "max_height": null,
            "align_content": null,
            "visibility": null,
            "align_self": null,
            "height": null,
            "min_height": null,
            "padding": null,
            "grid_auto_rows": null,
            "grid_gap": null,
            "max_width": null,
            "order": null,
            "_view_module_version": "1.2.0",
            "grid_template_areas": null,
            "object_position": null,
            "object_fit": null,
            "grid_auto_columns": null,
            "margin": null,
            "display": null,
            "left": null
          }
        },
        "53a851782c8441c0b074ba237024f712": {
          "model_module": "@jupyter-widgets/controls",
          "model_name": "DescriptionStyleModel",
          "state": {
            "_view_name": "StyleView",
            "_model_name": "DescriptionStyleModel",
            "description_width": "",
            "_view_module": "@jupyter-widgets/base",
            "_model_module_version": "1.5.0",
            "_view_count": null,
            "_view_module_version": "1.2.0",
            "_model_module": "@jupyter-widgets/controls"
          }
        },
        "d70e918644cf4d678c4f66bb1cfe03bb": {
          "model_module": "@jupyter-widgets/base",
          "model_name": "LayoutModel",
          "state": {
            "_view_name": "LayoutView",
            "grid_template_rows": null,
            "right": null,
            "justify_content": null,
            "_view_module": "@jupyter-widgets/base",
            "overflow": null,
            "_model_module_version": "1.2.0",
            "_view_count": null,
            "flex_flow": null,
            "width": null,
            "min_width": null,
            "border": null,
            "align_items": null,
            "bottom": null,
            "_model_module": "@jupyter-widgets/base",
            "top": null,
            "grid_column": null,
            "overflow_y": null,
            "overflow_x": null,
            "grid_auto_flow": null,
            "grid_area": null,
            "grid_template_columns": null,
            "flex": null,
            "_model_name": "LayoutModel",
            "justify_items": null,
            "grid_row": null,
            "max_height": null,
            "align_content": null,
            "visibility": null,
            "align_self": null,
            "height": null,
            "min_height": null,
            "padding": null,
            "grid_auto_rows": null,
            "grid_gap": null,
            "max_width": null,
            "order": null,
            "_view_module_version": "1.2.0",
            "grid_template_areas": null,
            "object_position": null,
            "object_fit": null,
            "grid_auto_columns": null,
            "margin": null,
            "display": null,
            "left": null
          }
        }
      }
    }
  },
  "cells": [
    {
      "cell_type": "markdown",
      "metadata": {
        "id": "q6ibzlSDoRrQ"
      },
      "source": [
        "# **CS 586: Final Project**\n",
        "COVID-19: Understanding the range of incubation periods and how long individuals are contagious after recovery.\n",
        "-----------------------------------------------------------------------\n",
        "This purpose of this notebook is to take a .csv file of relevant papers and use NetworkX to run the PageRank algorithm. The results are then saved to a separate .csv file. "
      ]
    },
    {
      "cell_type": "markdown",
      "metadata": {
        "id": "z2Ox1BRtpf63"
      },
      "source": [
        "## **Installing Dependencies**\n",
        "This installs the modules that are not already provided and mounts Google Drive if using Colab. "
      ]
    },
    {
      "cell_type": "code",
      "metadata": {
        "id": "Fe09tES9CchV",
        "colab": {
          "base_uri": "https://localhost:8080/"
        },
        "outputId": "4473dff9-61de-43f4-88a2-233affd853c3"
      },
      "source": [
        "# Installs dependencies and \n",
        "!pip install rdflib\n",
        "!apt-get -y install python-dev graphviz libgraphviz-dev pkg-config\n",
        "!pip install pygraphviz\n",
        "\n",
        "# Mounting Google drive if using Colab \n",
        "from google.colab import drive\n",
        "drive.mount('/content/drive')"
      ],
      "execution_count": 3,
      "outputs": [
        {
          "output_type": "stream",
          "text": [
            "Collecting rdflib\n",
            "\u001b[?25l  Downloading https://files.pythonhosted.org/packages/d0/6b/6454aa1db753c0f8bc265a5bd5c10b5721a4bb24160fb4faf758cf6be8a1/rdflib-5.0.0-py3-none-any.whl (231kB)\n",
            "\u001b[K     |████████████████████████████████| 235kB 7.9MB/s \n",
            "\u001b[?25hRequirement already satisfied: six in /usr/local/lib/python3.6/dist-packages (from rdflib) (1.15.0)\n",
            "Requirement already satisfied: pyparsing in /usr/local/lib/python3.6/dist-packages (from rdflib) (2.4.7)\n",
            "Collecting isodate\n",
            "\u001b[?25l  Downloading https://files.pythonhosted.org/packages/9b/9f/b36f7774ff5ea8e428fdcfc4bb332c39ee5b9362ddd3d40d9516a55221b2/isodate-0.6.0-py2.py3-none-any.whl (45kB)\n",
            "\u001b[K     |████████████████████████████████| 51kB 7.4MB/s \n",
            "\u001b[?25hInstalling collected packages: isodate, rdflib\n",
            "Successfully installed isodate-0.6.0 rdflib-5.0.0\n",
            "Reading package lists... Done\n",
            "Building dependency tree       \n",
            "Reading state information... Done\n",
            "pkg-config is already the newest version (0.29.1-0ubuntu2).\n",
            "python-dev is already the newest version (2.7.15~rc1-1).\n",
            "graphviz is already the newest version (2.40.1-2).\n",
            "The following additional packages will be installed:\n",
            "  libgail-common libgail18 libgtk2.0-0 libgtk2.0-bin libgtk2.0-common\n",
            "  libgvc6-plugins-gtk libxdot4\n",
            "Suggested packages:\n",
            "  gvfs\n",
            "The following NEW packages will be installed:\n",
            "  libgail-common libgail18 libgraphviz-dev libgtk2.0-0 libgtk2.0-bin\n",
            "  libgtk2.0-common libgvc6-plugins-gtk libxdot4\n",
            "0 upgraded, 8 newly installed, 0 to remove and 14 not upgraded.\n",
            "Need to get 2,120 kB of archives.\n",
            "After this operation, 7,128 kB of additional disk space will be used.\n",
            "Get:1 http://archive.ubuntu.com/ubuntu bionic/main amd64 libgtk2.0-common all 2.24.32-1ubuntu1 [125 kB]\n",
            "Get:2 http://archive.ubuntu.com/ubuntu bionic/main amd64 libgtk2.0-0 amd64 2.24.32-1ubuntu1 [1,769 kB]\n",
            "Get:3 http://archive.ubuntu.com/ubuntu bionic/main amd64 libgail18 amd64 2.24.32-1ubuntu1 [14.2 kB]\n",
            "Get:4 http://archive.ubuntu.com/ubuntu bionic/main amd64 libgail-common amd64 2.24.32-1ubuntu1 [112 kB]\n",
            "Get:5 http://archive.ubuntu.com/ubuntu bionic/universe amd64 libxdot4 amd64 2.40.1-2 [15.7 kB]\n",
            "Get:6 http://archive.ubuntu.com/ubuntu bionic/universe amd64 libgvc6-plugins-gtk amd64 2.40.1-2 [18.2 kB]\n",
            "Get:7 http://archive.ubuntu.com/ubuntu bionic/universe amd64 libgraphviz-dev amd64 2.40.1-2 [57.3 kB]\n",
            "Get:8 http://archive.ubuntu.com/ubuntu bionic/main amd64 libgtk2.0-bin amd64 2.24.32-1ubuntu1 [7,536 B]\n",
            "Fetched 2,120 kB in 1s (1,430 kB/s)\n",
            "Selecting previously unselected package libgtk2.0-common.\n",
            "(Reading database ... 144793 files and directories currently installed.)\n",
            "Preparing to unpack .../0-libgtk2.0-common_2.24.32-1ubuntu1_all.deb ...\n",
            "Unpacking libgtk2.0-common (2.24.32-1ubuntu1) ...\n",
            "Selecting previously unselected package libgtk2.0-0:amd64.\n",
            "Preparing to unpack .../1-libgtk2.0-0_2.24.32-1ubuntu1_amd64.deb ...\n",
            "Unpacking libgtk2.0-0:amd64 (2.24.32-1ubuntu1) ...\n",
            "Selecting previously unselected package libgail18:amd64.\n",
            "Preparing to unpack .../2-libgail18_2.24.32-1ubuntu1_amd64.deb ...\n",
            "Unpacking libgail18:amd64 (2.24.32-1ubuntu1) ...\n",
            "Selecting previously unselected package libgail-common:amd64.\n",
            "Preparing to unpack .../3-libgail-common_2.24.32-1ubuntu1_amd64.deb ...\n",
            "Unpacking libgail-common:amd64 (2.24.32-1ubuntu1) ...\n",
            "Selecting previously unselected package libxdot4.\n",
            "Preparing to unpack .../4-libxdot4_2.40.1-2_amd64.deb ...\n",
            "Unpacking libxdot4 (2.40.1-2) ...\n",
            "Selecting previously unselected package libgvc6-plugins-gtk.\n",
            "Preparing to unpack .../5-libgvc6-plugins-gtk_2.40.1-2_amd64.deb ...\n",
            "Unpacking libgvc6-plugins-gtk (2.40.1-2) ...\n",
            "Selecting previously unselected package libgraphviz-dev.\n",
            "Preparing to unpack .../6-libgraphviz-dev_2.40.1-2_amd64.deb ...\n",
            "Unpacking libgraphviz-dev (2.40.1-2) ...\n",
            "Selecting previously unselected package libgtk2.0-bin.\n",
            "Preparing to unpack .../7-libgtk2.0-bin_2.24.32-1ubuntu1_amd64.deb ...\n",
            "Unpacking libgtk2.0-bin (2.24.32-1ubuntu1) ...\n",
            "Setting up libgtk2.0-common (2.24.32-1ubuntu1) ...\n",
            "Setting up libxdot4 (2.40.1-2) ...\n",
            "Setting up libgtk2.0-0:amd64 (2.24.32-1ubuntu1) ...\n",
            "Setting up libgail18:amd64 (2.24.32-1ubuntu1) ...\n",
            "Setting up libgail-common:amd64 (2.24.32-1ubuntu1) ...\n",
            "Setting up libgvc6-plugins-gtk (2.40.1-2) ...\n",
            "Setting up libgraphviz-dev (2.40.1-2) ...\n",
            "Setting up libgtk2.0-bin (2.24.32-1ubuntu1) ...\n",
            "Processing triggers for man-db (2.8.3-2ubuntu0.1) ...\n",
            "Processing triggers for libc-bin (2.27-3ubuntu1.2) ...\n",
            "/sbin/ldconfig.real: /usr/local/lib/python3.6/dist-packages/ideep4py/lib/libmkldnn.so.0 is not a symbolic link\n",
            "\n",
            "Collecting pygraphviz\n",
            "\u001b[?25l  Downloading https://files.pythonhosted.org/packages/1e/19/acf3b8dbd378a2b38c6d9aaa6fa9fcd9f7b4aea5fcd3460014999ff92b3c/pygraphviz-1.6.zip (117kB)\n",
            "\u001b[K     |████████████████████████████████| 122kB 8.0MB/s \n",
            "\u001b[?25hBuilding wheels for collected packages: pygraphviz\n",
            "  Building wheel for pygraphviz (setup.py) ... \u001b[?25l\u001b[?25hdone\n",
            "  Created wheel for pygraphviz: filename=pygraphviz-1.6-cp36-cp36m-linux_x86_64.whl size=155451 sha256=21860fb9e105c885342dc0ba367886e6d9d527a4cba4e0d8619ad52196e6afeb\n",
            "  Stored in directory: /root/.cache/pip/wheels/7c/45/a1/93b830b69fb81d1ae84a248da30e2c0b926a3a6e3435908e6d\n",
            "Successfully built pygraphviz\n",
            "Installing collected packages: pygraphviz\n",
            "Successfully installed pygraphviz-1.6\n",
            "Drive already mounted at /content/drive; to attempt to forcibly remount, call drive.mount(\"/content/drive\", force_remount=True).\n"
          ],
          "name": "stdout"
        }
      ]
    },
    {
      "cell_type": "markdown",
      "metadata": {
        "id": "WFqlDcq-qH2C"
      },
      "source": [
        "## **Preparing the Knowledge Graph**\n",
        "\n",
        "In order to utilize the open-source knowledge graph, we'll parse the N-Triples file provided using `rdflib`."
      ]
    },
    {
      "cell_type": "code",
      "metadata": {
        "id": "IhqpQY1XG-dm"
      },
      "source": [
        "import rdflib\n",
        "from rdflib.extras.external_graph_libs import rdflib_to_networkx_digraph\n",
        "import networkx as nx\n",
        "%matplotlib inline\n",
        "import matplotlib.pyplot as plt\n",
        "\n",
        "from tqdm.notebook import tqdm"
      ],
      "execution_count": 4,
      "outputs": []
    },
    {
      "cell_type": "code",
      "metadata": {
        "id": "jQBV-vY_Db7d",
        "colab": {
          "base_uri": "https://localhost:8080/"
        },
        "outputId": "b5776670-d27c-414d-fd0e-1c6657ff7543"
      },
      "source": [
        "# Load the knowledge-graph (this will take a bit)\n",
        "# Note that the invalid URIs warnings are unfortunately due to the \n",
        "# errors in the open source dataset\n",
        "kg = rdflib.Graph()\n",
        "kg.load('/content/drive/Shared drives/CS 586: Data & Web Semantics/Final Project/covid19-literature-knowledge-graph/covid-kg4.nt', format='nt')"
      ],
      "execution_count": 5,
      "outputs": [
        {
          "output_type": "stream",
          "text": [
            "http://dx.doi.org/10.1137/040604947\\end{doi does not look like a valid URI, trying to serialize this will break.\n",
            "http://dx.doi.org/10.1137/040604947\\end{doi does not look like a valid URI, trying to serialize this will break.\n",
            "http://dx.doi.org/10.1137/040604947\\end{doi does not look like a valid URI, trying to serialize this will break.\n",
            "http://dx.doi.org/10.1137/040604947\\end{doi does not look like a valid URI, trying to serialize this will break.\n",
            "http://dx.doi.org/10.1137/040604947\\end{doi does not look like a valid URI, trying to serialize this will break.\n",
            "http://dx.doi.org/10.1137/040604947\\end{doi does not look like a valid URI, trying to serialize this will break.\n",
            "http://dx.doi.org/10.1137/040604947\\end{doi does not look like a valid URI, trying to serialize this will break.\n",
            "http://dx.doi.org/10.1137/040604947\\end{doi does not look like a valid URI, trying to serialize this will break.\n",
            "http://dx.doi.org/10.1137/040604947\\end{doi does not look like a valid URI, trying to serialize this will break.\n",
            "http://dx.doi.org/10.1137/040604947\\end{doi does not look like a valid URI, trying to serialize this will break.\n",
            "http://dx.doi.org/10.1137/040604947\\end{doi does not look like a valid URI, trying to serialize this will break.\n",
            "http://dx.doi.org/10.1137/040604947\\end{doi does not look like a valid URI, trying to serialize this will break.\n",
            "http://dx.doi.org/10.1137/040604947\\end{doi does not look like a valid URI, trying to serialize this will break.\n",
            "http://dx.doi.org/10.1137/040604947\\end{doi does not look like a valid URI, trying to serialize this will break.\n",
            "<http://idlab.github.io/covid19# does not look like a valid URI, trying to serialize this will break.\n",
            "<http://idlab.github.io/covid19# does not look like a valid URI, trying to serialize this will break.\n",
            "<http://idlab.github.io/covid19# does not look like a valid URI, trying to serialize this will break.\n",
            "<http://idlab.github.io/covid19# does not look like a valid URI, trying to serialize this will break.\n",
            "<http://idlab.github.io/covid19# does not look like a valid URI, trying to serialize this will break.\n",
            "<http://idlab.github.io/covid19# does not look like a valid URI, trying to serialize this will break.\n",
            "<http://idlab.github.io/covid19# does not look like a valid URI, trying to serialize this will break.\n",
            "<http://idlab.github.io/covid19# does not look like a valid URI, trying to serialize this will break.\n",
            "<http://idlab.github.io/covid19# does not look like a valid URI, trying to serialize this will break.\n"
          ],
          "name": "stderr"
        }
      ]
    },
    {
      "cell_type": "code",
      "metadata": {
        "id": "AHQOHIQWIoU5",
        "colab": {
          "base_uri": "https://localhost:8080/"
        },
        "outputId": "6f88f283-697d-4b65-c676-03344c13cd8a"
      },
      "source": [
        "# Check that we were able to load the knowledge graph properly\n",
        "# Number of triples\n",
        "print(len(list(kg.triples((None, None, None)))))\n",
        "\n",
        "#Predicates\n",
        "print(len(set(kg.predicates())))\n",
        "\n",
        "# Number of subjects\n",
        "print(len(set(kg.subjects())))\n",
        "\n",
        "# Predicates\n",
        "for pr in set(kg.predicates()):\n",
        "   print(pr)"
      ],
      "execution_count": 6,
      "outputs": [
        {
          "output_type": "stream",
          "text": [
            "5151961\n",
            "9\n",
            "1362044\n",
            "http://dbpedia.org/ontology/city\n",
            "http://www.w3.org/1999/02/22-rdf-syntax-ns#type\n",
            "http://purl.org/spar/cito/cites\n",
            "http://dbpedia.org/ontology/country\n",
            "http://xmlns.com/foaf/0.1/surname\n",
            "http://xmlns.com/foaf/0.1/firstName\n",
            "http://purl.org/dc/terms/identifier\n",
            "http://purl.org/spar/pro/creator\n",
            "http://www.w3.org/ns/org#memberOf\n"
          ],
          "name": "stdout"
        }
      ]
    },
    {
      "cell_type": "markdown",
      "metadata": {
        "id": "Unq5n7vPqxr9"
      },
      "source": [
        "## **Prepare the Dataset**\n",
        "\n",
        "Below we take the .csv file containing the relevant papers and only keep the papers that have been cited in other papers."
      ]
    },
    {
      "cell_type": "code",
      "metadata": {
        "id": "VsxG52Fe8Po7",
        "colab": {
          "base_uri": "https://localhost:8080/",
          "height": 67,
          "referenced_widgets": [
            "29a919176bd54e6fb485ffb7783e53e6",
            "7c1e3fc675324664942a1e6ee8c8b068",
            "4615f6fd6dd643709a0c96f77fdf2dff",
            "6c7ef57cc37b45888c9b2df145b50cec",
            "0008bc9248594b62ba8acd73f85393b2",
            "b61f08b0f3994f22b44512406e2080f0",
            "73aff27d73d54e409be07b489201227e",
            "6adeeb0fe98047f8a00d126254dda955"
          ]
        },
        "outputId": "5c3bbe23-b991-462b-bb2e-ff181e37c53a"
      },
      "source": [
        "# Load the csv of papers\n",
        "import pandas as pd \n",
        "data = pd.read_csv('/content/drive/Shareddrives/CS 586: Data & Web Semantics/Final Project/final_ib.csv')\n",
        "\n",
        "# Extract the doi values from the dataset and convert to the URIRef format\n",
        "doi_list = list(data['doi'].dropna().apply(lambda x: 'http://dx.doi.org/' + x.strip('doi.org').strip('http://dx.doi.org/')).values)\n",
        "\n",
        "# Only keep the papers that are cited by other papers in our list\n",
        "papers = []\n",
        "for doi in tqdm(doi_list):\n",
        "  triples_list = list(kg.triples((None, rdflib.URIRef('http://purl.org/spar/cito/cites'), rdflib.URIRef(str(doi)))))\n",
        "  if len(triples_list) > 0:\n",
        "    papers += triples_list\n"
      ],
      "execution_count": 7,
      "outputs": [
        {
          "output_type": "display_data",
          "data": {
            "application/vnd.jupyter.widget-view+json": {
              "model_id": "29a919176bd54e6fb485ffb7783e53e6",
              "version_minor": 0,
              "version_major": 2
            },
            "text/plain": [
              "HBox(children=(FloatProgress(value=0.0, max=7719.0), HTML(value='')))"
            ]
          },
          "metadata": {
            "tags": []
          }
        },
        {
          "output_type": "stream",
          "text": [
            "\n"
          ],
          "name": "stdout"
        }
      ]
    },
    {
      "cell_type": "markdown",
      "metadata": {
        "id": "y9fQ3psSsGnN"
      },
      "source": [
        "## **Generate the Subgraph**\n",
        "\n",
        "Since we don't need the entire knowledge graph, we'll create a subgraph that contains the papers from the previous step."
      ]
    },
    {
      "cell_type": "code",
      "metadata": {
        "colab": {
          "base_uri": "https://localhost:8080/",
          "height": 139,
          "referenced_widgets": [
            "f8dc674818684702829a04c777d4034b",
            "3da0f24577a8460a8c930e5099a55448",
            "3c06b56354384a689bdc2a7937fdfb66",
            "cdd2af65871749449242589840b6d549",
            "a42e08e88edf4bc6908700d89508be19",
            "4502f68409c24b1280bc5e962e69609d",
            "53a851782c8441c0b074ba237024f712",
            "d70e918644cf4d678c4f66bb1cfe03bb"
          ]
        },
        "id": "uaFkqBQLjzNO",
        "outputId": "01cd6713-0684-476d-8822-ffb16d765542"
      },
      "source": [
        "# Generate subgraph from the papers \n",
        "subgraph = rdflib.Graph()\n",
        "for paper in tqdm(papers):\n",
        "  subgraph.add(paper)\n",
        "\n",
        "# Check for successful subgraph creation below\n",
        "# Number of triples\n",
        "print(len(list(subgraph.triples((None, None, None)))))\n",
        "\n",
        "#Predicates\n",
        "print(len(set(subgraph.predicates())))\n",
        "\n",
        "# Number of subjects\n",
        "print(len(set(subgraph.subjects())))\n",
        "\n",
        "# Predicate\n",
        "for pr in set(subgraph.predicates()):\n",
        "   print(pr)"
      ],
      "execution_count": 8,
      "outputs": [
        {
          "output_type": "display_data",
          "data": {
            "application/vnd.jupyter.widget-view+json": {
              "model_id": "f8dc674818684702829a04c777d4034b",
              "version_minor": 0,
              "version_major": 2
            },
            "text/plain": [
              "HBox(children=(FloatProgress(value=0.0, max=51518.0), HTML(value='')))"
            ]
          },
          "metadata": {
            "tags": []
          }
        },
        {
          "output_type": "stream",
          "text": [
            "\n",
            "15295\n",
            "1\n",
            "9432\n",
            "http://purl.org/spar/cito/cites\n"
          ],
          "name": "stdout"
        }
      ]
    },
    {
      "cell_type": "markdown",
      "metadata": {
        "id": "M1NGT4ORs-ZE"
      },
      "source": [
        "## **Convert to NetworkX Graph and run PageRank**\n",
        "\n",
        "We'll now need to convert our subgraph from the previous step to a directed NetworkX graph with weighted edges. The weighted edges ensure that the PageRank algorithm will converge. Once the PageRank is completed, we can save the rankings to a .csv file."
      ]
    },
    {
      "cell_type": "code",
      "metadata": {
        "colab": {
          "base_uri": "https://localhost:8080/"
        },
        "id": "_5Mo_CtkwpR1",
        "outputId": "781ad13b-db54-4f74-a475-9e9ed5a818a9"
      },
      "source": [
        "# Conversion to networkx graph for analysis\n",
        "networkGraph = rdflib_to_networkx_digraph(subgraph, calc_weights=True)\n",
        "\n",
        "# Check that this was successful\n",
        "print(\"Success! NetworkX Graph has length\", len(networkGraph))\n",
        "print(\"Number of Nodes:\", networkGraph.number_of_nodes())\n",
        "print(\"Number of Edges:\", networkGraph.number_of_edges())"
      ],
      "execution_count": 9,
      "outputs": [
        {
          "output_type": "stream",
          "text": [
            "Success! NetworkX Graph has length 10314\n",
            "Number of Nodes: 10314\n",
            "Number of Edges: 15295\n"
          ],
          "name": "stdout"
        }
      ]
    },
    {
      "cell_type": "code",
      "metadata": {
        "id": "UWQuROyXx4Fw"
      },
      "source": [
        "# Generate the PageRank of the graph\n",
        "page_rankings = nx.pagerank(networkGraph)\n",
        "\n",
        "# Convert to .csv\n",
        "with open('page_ranking.csv', 'w') as file:\n",
        "  for key in page_rankings.keys():\n",
        "    file.write(\"%s,%s\\n\"%(key,page_rankings[key]))"
      ],
      "execution_count": 10,
      "outputs": []
    }
  ]
}