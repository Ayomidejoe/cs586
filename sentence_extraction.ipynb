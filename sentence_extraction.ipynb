{
 "cells": [
  {
   "cell_type": "code",
   "execution_count": 1,
   "metadata": {},
   "outputs": [],
   "source": [
    "import pandas as pd\n",
    "import re"
   ]
  },
  {
   "cell_type": "code",
   "execution_count": 3,
   "metadata": {},
   "outputs": [],
   "source": [
    "kg = pd.read_csv(\"knoweldge_graph.csv\")"
   ]
  },
  {
   "cell_type": "code",
   "execution_count": 15,
   "metadata": {},
   "outputs": [],
   "source": [
    "## Incubation Period \n",
    "# Days\n",
    "matching = []\n",
    "\n",
    "for i in range(len(kg)):\n",
    "    match1 = re.search(\"incubation period\", kg.sentence_text[i].lower())\n",
    "    match2 = re.search(\"SARS\", kg.sentence_text[i].lower())\n",
    "    match3 = re.search(\"Covid\", kg.sentence_text[i].lower())\n",
    "    match4 = re.search(\"coronavirus\", kg.sentence_text[i].lower())\n",
    "    match5 = re.search(\"day.+\", kg.sentence_text[i].lower())\n",
    "    match6 = re.search(\"week.+\", kg.sentence_text[i].lower())\n",
    "    match7 = re.search(\"cov-19\", kg.sentence_text[i].lower())\n",
    "    if match1:\n",
    "        matching.extend(str(match1))\n",
    "    if match2:\n",
    "        matching.extend(str(match2))\n",
    "    if match3:\n",
    "        matching.extend(str(match3))\n",
    "    if match4:\n",
    "        matching.extend(str(match4))\n",
    "    if match5:\n",
    "        matching.extend(str(match5))\n",
    "    if match6:\n",
    "        matching.extend(str(match6))\n",
    "    if match7:\n",
    "        matching.extend(str(match7))"
   ]
  },
  {
   "cell_type": "code",
   "execution_count": 11,
   "metadata": {},
   "outputs": [],
   "source": [
    "final_ib = pd.DataFrame()"
   ]
  },
  {
   "cell_type": "code",
   "execution_count": null,
   "metadata": {},
   "outputs": [],
   "source": [
    "ix = []\n",
    "for i in range(len(kg)):\n",
    "    if any(substring in kg.sentence_text for substring in matching):\n",
    "        ix.append(i)"
   ]
  },
  {
   "cell_type": "code",
   "execution_count": null,
   "metadata": {},
   "outputs": [],
   "source": [
    "final_ib = kg.iloc[ix]"
   ]
  },
  {
   "cell_type": "code",
   "execution_count": null,
   "metadata": {},
   "outputs": [],
   "source": [
    "final_ib.to_csv(\"final_ib.csv\")"
   ]
  },
  {
   "cell_type": "code",
   "execution_count": null,
   "metadata": {},
   "outputs": [],
   "source": [
    "## Incubation Period \n",
    "# Days\n",
    "matching = []\n",
    "\n",
    "for i in range(len(kg)):\n",
    "    match1 = re.search(\"contagious period\", kg.sentence_text[i].lower())\n",
    "    match2 = re.search(\"SARS\", kg.sentence_text[i].lower())\n",
    "    match3 = re.search(\"Covid\", kg.sentence_text[i].lower())\n",
    "    match4 = re.search(\"coronavirus\", kg.sentence_text[i].lower())\n",
    "    match5 = re.search(\"day.+\", kg.sentence_text[i].lower())\n",
    "    match6 = re.search(\"week.+\", kg.sentence_text[i].lower())\n",
    "    match7 = re.search(\"cov-19\", kg.sentence_text[i].lower())\n",
    "    match2 = re.search(\"infect.+\", kg.sentence_text[i].lower())\n",
    "    if match1:\n",
    "        matching.extend(str(match1))\n",
    "    if match2:\n",
    "        matching.extend(str(match2))\n",
    "    if match3:\n",
    "        matching.extend(str(match3))\n",
    "    if match4:\n",
    "        matching.extend(str(match4))\n",
    "    if match5:\n",
    "        matching.extend(str(match5))\n",
    "    if match6:\n",
    "        matching.extend(str(match6))\n",
    "    if match7:\n",
    "        matching.extend(str(match7))\n",
    "    if match8:\n",
    "        matching.extend(str(match8))"
   ]
  },
  {
   "cell_type": "code",
   "execution_count": null,
   "metadata": {},
   "outputs": [],
   "source": [
    "final_cp = pd.DataFrame()\n",
    "ix = []\n",
    "for i in range(len(kg)):\n",
    "    if any(substring in kg.sentence_text for substring in matching):\n",
    "        ix.append(i)\n",
    "final_cp = kg.iloc[ix]"
   ]
  },
  {
   "cell_type": "code",
   "execution_count": null,
   "metadata": {},
   "outputs": [],
   "source": [
    "final_cp.to_csv(\"contagious_period.csv\")"
   ]
  },
  {
   "cell_type": "code",
   "execution_count": null,
   "metadata": {},
   "outputs": [],
   "source": []
  },
  {
   "cell_type": "code",
   "execution_count": null,
   "metadata": {},
   "outputs": [],
   "source": []
  },
  {
   "cell_type": "code",
   "execution_count": null,
   "metadata": {},
   "outputs": [],
   "source": []
  },
  {
   "cell_type": "code",
   "execution_count": null,
   "metadata": {},
   "outputs": [],
   "source": []
  },
  {
   "cell_type": "code",
   "execution_count": null,
   "metadata": {},
   "outputs": [],
   "source": []
  }
 ],
 "metadata": {
  "kernelspec": {
   "display_name": "Python 3",
   "language": "python",
   "name": "python3"
  },
  "language_info": {
   "codemirror_mode": {
    "name": "ipython",
    "version": 3
   },
   "file_extension": ".py",
   "mimetype": "text/x-python",
   "name": "python",
   "nbconvert_exporter": "python",
   "pygments_lexer": "ipython3",
   "version": "3.8.3"
  }
 },
 "nbformat": 4,
 "nbformat_minor": 4
}
